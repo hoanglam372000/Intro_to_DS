{
 "cells": [
  {
   "cell_type": "markdown",
   "metadata": {},
   "source": [
    "# ĐỒ ÁN CUỐI KỲ CỦA NHÓM 13:\n",
    "# DỰ ĐOÁN TẦM GIÁ ĐIỆN THOẠI Ở VIỆT NAM"
   ]
  },
  {
   "cell_type": "code",
   "execution_count": 1,
   "metadata": {},
   "outputs": [],
   "source": [
    "# Thư viện cần thiết\n",
    "from selenium import webdriver\n",
    "import requests\n",
    "from bs4 import BeautifulSoup\n",
    "import re\n",
    "import time\n",
    "import random\n",
    "import pandas as pd\n",
    "import csv\n",
    "import math\n",
    "%matplotlib inline\n",
    "import matplotlib.pyplot as plt\n",
    "import seaborn as sns\n",
    "import numpy as np\n",
    "\n",
    "from sklearn.model_selection import train_test_split\n",
    "from sklearn.preprocessing import OneHotEncoder, StandardScaler\n",
    "from sklearn.impute import SimpleImputer\n",
    "from sklearn.base import BaseEstimator, TransformerMixin\n",
    "from sklearn.pipeline import Pipeline, make_pipeline\n",
    "from sklearn.compose import ColumnTransformer, make_column_transformer\n",
    "from sklearn.neural_network import MLPClassifier\n",
    "from sklearn import set_config\n",
    "set_config(display='diagram')\n",
    "import sklearn\n",
    "from sklearn.linear_model import LinearRegression\n",
    "from sklearn.linear_model import LogisticRegression\n",
    "from sklearn.tree import DecisionTreeClassifier "
   ]
  },
  {
   "cell_type": "markdown",
   "metadata": {},
   "source": [
    "# 2. Khám phá dữ liệu + Tiền xử lý dữ liệu \n"
   ]
  },
  {
   "cell_type": "code",
   "execution_count": 2,
   "metadata": {},
   "outputs": [],
   "source": [
    "data_df = pd.read_csv('Phone_Information.csv')"
   ]
  },
  {
   "cell_type": "code",
   "execution_count": 3,
   "metadata": {
    "scrolled": true
   },
   "outputs": [
    {
     "data": {
      "text/html": [
       "<div>\n",
       "<style scoped>\n",
       "    .dataframe tbody tr th:only-of-type {\n",
       "        vertical-align: middle;\n",
       "    }\n",
       "\n",
       "    .dataframe tbody tr th {\n",
       "        vertical-align: top;\n",
       "    }\n",
       "\n",
       "    .dataframe thead th {\n",
       "        text-align: right;\n",
       "    }\n",
       "</style>\n",
       "<table border=\"1\" class=\"dataframe\">\n",
       "  <thead>\n",
       "    <tr style=\"text-align: right;\">\n",
       "      <th></th>\n",
       "      <th>Phone_Name</th>\n",
       "      <th>Brand</th>\n",
       "      <th>Screen</th>\n",
       "      <th>OS</th>\n",
       "      <th>Main_Camera</th>\n",
       "      <th>Front_Camera</th>\n",
       "      <th>CPU</th>\n",
       "      <th>RAM</th>\n",
       "      <th>Storage</th>\n",
       "      <th>Battery</th>\n",
       "      <th>Price</th>\n",
       "    </tr>\n",
       "  </thead>\n",
       "  <tbody>\n",
       "    <tr>\n",
       "      <th>0</th>\n",
       "      <td>oppo-reno5</td>\n",
       "      <td>oppo</td>\n",
       "      <td>6.43</td>\n",
       "      <td>Android 11</td>\n",
       "      <td>Chính 64</td>\n",
       "      <td>44</td>\n",
       "      <td>Snapdragon</td>\n",
       "      <td>8.0</td>\n",
       "      <td>128.0</td>\n",
       "      <td>4310</td>\n",
       "      <td>8.690.000</td>\n",
       "    </tr>\n",
       "    <tr>\n",
       "      <th>1</th>\n",
       "      <td>oppo-a92</td>\n",
       "      <td>oppo</td>\n",
       "      <td>6.50</td>\n",
       "      <td>Android 10</td>\n",
       "      <td>Chính 48</td>\n",
       "      <td>16</td>\n",
       "      <td>Snapdragon</td>\n",
       "      <td>8.0</td>\n",
       "      <td>128.0</td>\n",
       "      <td>5000</td>\n",
       "      <td>6.490.000₫ -4%</td>\n",
       "    </tr>\n",
       "    <tr>\n",
       "      <th>2</th>\n",
       "      <td>iphone-12-mini</td>\n",
       "      <td>iphone</td>\n",
       "      <td>5.40</td>\n",
       "      <td>iOS 14</td>\n",
       "      <td>2 camera 12</td>\n",
       "      <td>12</td>\n",
       "      <td>Apple</td>\n",
       "      <td>4.0</td>\n",
       "      <td>64.0</td>\n",
       "      <td>2227</td>\n",
       "      <td>21.990.000</td>\n",
       "    </tr>\n",
       "    <tr>\n",
       "      <th>3</th>\n",
       "      <td>xiaomi-mi-10t-pro</td>\n",
       "      <td>xiaomi</td>\n",
       "      <td>6.67</td>\n",
       "      <td>Android 10</td>\n",
       "      <td>Chính 108</td>\n",
       "      <td>20</td>\n",
       "      <td>Snapdragon</td>\n",
       "      <td>8.0</td>\n",
       "      <td>256.0</td>\n",
       "      <td>5000</td>\n",
       "      <td>12.990.000₫ -5%</td>\n",
       "    </tr>\n",
       "    <tr>\n",
       "      <th>4</th>\n",
       "      <td>samsung-galaxy-a12-6gb</td>\n",
       "      <td>samsung</td>\n",
       "      <td>6.50</td>\n",
       "      <td>Android 10</td>\n",
       "      <td>Chính 48</td>\n",
       "      <td>8</td>\n",
       "      <td>MediaTek</td>\n",
       "      <td>6.0</td>\n",
       "      <td>128.0</td>\n",
       "      <td>5000</td>\n",
       "      <td>4.690.000₫ -2%</td>\n",
       "    </tr>\n",
       "  </tbody>\n",
       "</table>\n",
       "</div>"
      ],
      "text/plain": [
       "               Phone_Name    Brand  Screen          OS  Main_Camera  \\\n",
       "0              oppo-reno5     oppo    6.43  Android 11     Chính 64   \n",
       "1                oppo-a92     oppo    6.50  Android 10     Chính 48   \n",
       "2          iphone-12-mini   iphone    5.40      iOS 14  2 camera 12   \n",
       "3       xiaomi-mi-10t-pro   xiaomi    6.67  Android 10    Chính 108   \n",
       "4  samsung-galaxy-a12-6gb  samsung    6.50  Android 10     Chính 48   \n",
       "\n",
       "  Front_Camera         CPU  RAM  Storage  Battery             Price  \n",
       "0           44  Snapdragon  8.0    128.0     4310         8.690.000  \n",
       "1           16  Snapdragon  8.0    128.0     5000   6.490.000₫ -4%   \n",
       "2           12       Apple  4.0     64.0     2227        21.990.000  \n",
       "3           20  Snapdragon  8.0    256.0     5000  12.990.000₫ -5%   \n",
       "4            8    MediaTek  6.0    128.0     5000   4.690.000₫ -2%   "
      ]
     },
     "execution_count": 3,
     "metadata": {},
     "output_type": "execute_result"
    }
   ],
   "source": [
    "data_df.head()"
   ]
  },
  {
   "cell_type": "markdown",
   "metadata": {},
   "source": [
    "### Dữ liệu có bao nhiêu dòng và cột?"
   ]
  },
  {
   "cell_type": "code",
   "execution_count": 4,
   "metadata": {},
   "outputs": [
    {
     "data": {
      "text/plain": [
       "(175, 11)"
      ]
     },
     "execution_count": 4,
     "metadata": {},
     "output_type": "execute_result"
    }
   ],
   "source": [
    "data_df.shape"
   ]
  },
  {
   "cell_type": "markdown",
   "metadata": {},
   "source": [
    "**Quan sát dữ liệu: ta thấy cột Phone_Name không có nhiều ý nghĩa cho việc Huấn luyện mô hình => xoá cột Phone_Name**"
   ]
  },
  {
   "cell_type": "code",
   "execution_count": 5,
   "metadata": {},
   "outputs": [],
   "source": [
    "df = data_df.drop('Phone_Name',axis =1)\n"
   ]
  },
  {
   "cell_type": "markdown",
   "metadata": {},
   "source": [
    "### Các cột có kiểu dữ liệu gì?"
   ]
  },
  {
   "cell_type": "code",
   "execution_count": 6,
   "metadata": {},
   "outputs": [
    {
     "data": {
      "text/plain": [
       "Brand            object\n",
       "Screen          float64\n",
       "OS               object\n",
       "Main_Camera      object\n",
       "Front_Camera     object\n",
       "CPU              object\n",
       "RAM             float64\n",
       "Storage         float64\n",
       "Battery           int64\n",
       "Price            object\n",
       "dtype: object"
      ]
     },
     "execution_count": 6,
     "metadata": {},
     "output_type": "execute_result"
    }
   ],
   "source": [
    "df.dtypes"
   ]
  },
  {
   "cell_type": "markdown",
   "metadata": {},
   "source": [
    "**Tại đây ta thấy chúng ta nên chuyển các cột Main_Camera, Front_Camera, Price về dạng số sẽ hợp lý hơn**\n"
   ]
  },
  {
   "cell_type": "markdown",
   "metadata": {},
   "source": [
    "### Dữ liệu có các dòng bị lặp không?"
   ]
  },
  {
   "cell_type": "code",
   "execution_count": 7,
   "metadata": {},
   "outputs": [
    {
     "data": {
      "text/plain": [
       "0"
      ]
     },
     "execution_count": 7,
     "metadata": {},
     "output_type": "execute_result"
    }
   ],
   "source": [
    "df.index.duplicated().sum()"
   ]
  },
  {
   "cell_type": "markdown",
   "metadata": {},
   "source": [
    "### Dữ liệu có bị thiếu không ?"
   ]
  },
  {
   "cell_type": "code",
   "execution_count": 8,
   "metadata": {},
   "outputs": [
    {
     "data": {
      "text/plain": [
       "Brand            0\n",
       "Screen           0\n",
       "OS              38\n",
       "Main_Camera     20\n",
       "Front_Camera    40\n",
       "CPU             38\n",
       "RAM             41\n",
       "Storage         37\n",
       "Battery          0\n",
       "Price            1\n",
       "dtype: int64"
      ]
     },
     "execution_count": 8,
     "metadata": {},
     "output_type": "execute_result"
    }
   ],
   "source": [
    "df.isna().sum()"
   ]
  },
  {
   "cell_type": "markdown",
   "metadata": {},
   "source": [
    "Từ đây, chúng ta biết được rằng cần xử lý các cột có giá trị NAN ở phía sau."
   ]
  },
  {
   "cell_type": "markdown",
   "metadata": {},
   "source": [
    "# Tiền xử lý dữ liệu ban đầu:"
   ]
  },
  {
   "cell_type": "markdown",
   "metadata": {},
   "source": [
    "### 1. Cột Price (dự định sẽ là cột output):  loại bỏ ký tự khác số, chuyển về dạng int, đồng thời loại bỏ dòng missing price"
   ]
  },
  {
   "cell_type": "code",
   "execution_count": 9,
   "metadata": {},
   "outputs": [],
   "source": [
    "df.drop(df[df['Price'].isna()].index,inplace =True)\n",
    "df['Price']= df['Price'].str.extract(r'(\\d+\\.\\d+[.]?[\\d]*)', expand=False)\n",
    "df['Price']= df['Price'].str.replace(r'[.]','',regex=True).astype(dtype = 'int64',errors = 'ignore')\n"
   ]
  },
  {
   "cell_type": "markdown",
   "metadata": {},
   "source": [
    "### 2. Xử lý các cột: Main_Camera, Front_Camera như sau:\n",
    "#### _ Lấy chuỗi có dạng số float or int\n",
    "#### _Chuyển về dạng float"
   ]
  },
  {
   "cell_type": "code",
   "execution_count": 10,
   "metadata": {},
   "outputs": [],
   "source": [
    "df.Main_Camera = pd.to_numeric(df.Main_Camera.str.extract(r'([\\d.]+)', expand=False), errors='coerce')"
   ]
  },
  {
   "cell_type": "code",
   "execution_count": 11,
   "metadata": {},
   "outputs": [],
   "source": [
    "df.Front_Camera = pd.to_numeric(df.Front_Camera.str.extract(r'([\\d.]+)', expand=False), errors='coerce')"
   ]
  },
  {
   "cell_type": "markdown",
   "metadata": {},
   "source": [
    "### Nếu dùng cột Price làm output thì có ổn không?"
   ]
  },
  {
   "cell_type": "code",
   "execution_count": 12,
   "metadata": {},
   "outputs": [
    {
     "data": {
      "text/plain": [
       "23990000    6\n",
       "6990000     6\n",
       "3990000     5\n",
       "4990000     5\n",
       "12990000    4\n",
       "           ..\n",
       "890000      1\n",
       "2290000     1\n",
       "18990000    1\n",
       "1250000     1\n",
       "36000000    1\n",
       "Name: Price, Length: 99, dtype: int64"
      ]
     },
     "execution_count": 12,
     "metadata": {},
     "output_type": "execute_result"
    }
   ],
   "source": [
    "df['Price'].value_counts()"
   ]
  },
  {
   "cell_type": "markdown",
   "metadata": {},
   "source": [
    "Ta thấy rằng cột Price hiện có đến 99 giá trị khác nhau => khó để phân lớp, ta làm mịn dữ liệu cột price bằng cách chia bin thành 5 khoảng và gán nhãn class từ 1->5"
   ]
  },
  {
   "cell_type": "code",
   "execution_count": 13,
   "metadata": {},
   "outputs": [],
   "source": [
    "df.to_csv('Phone_2021-01-15_dienmayxanh.csv',index = False)"
   ]
  },
  {
   "cell_type": "markdown",
   "metadata": {},
   "source": [
    "## Tiền xử lý (làm mịn dữ liệu)"
   ]
  },
  {
   "cell_type": "markdown",
   "metadata": {},
   "source": [
    "Chúng ta sẽ chia bin giá của điện thoại theo luật sau:\n",
    "- Phân khúc điện thoại **cơ bản** (label = 1): **Price <= 1,000,000**\n",
    "- Phân khúc điện thoại **phổ thông** (label = 2):  **1,000,000 < Price <=6,000,000**\n",
    "- Phân khúc điện thoại **trung cấp** (label = 3): **6,000,000 < Price <= 10,000,000**\n",
    "- Phân khúc điện thoại **cận cao cấp** (label = 4): **10,000,000 < Price <= 18,000,000**\n",
    "- Phân khúc điện thoại **cao cấp** (label = 5): **Price > 18,000,000**"
   ]
  },
  {
   "cell_type": "code",
   "execution_count": 14,
   "metadata": {},
   "outputs": [
    {
     "data": {
      "text/plain": [
       "160000"
      ]
     },
     "execution_count": 14,
     "metadata": {},
     "output_type": "execute_result"
    }
   ],
   "source": [
    "df.Price.min()"
   ]
  },
  {
   "cell_type": "code",
   "execution_count": 15,
   "metadata": {},
   "outputs": [
    {
     "data": {
      "text/plain": [
       "50000000"
      ]
     },
     "execution_count": 15,
     "metadata": {},
     "output_type": "execute_result"
    }
   ],
   "source": [
    "df.Price.max()"
   ]
  },
  {
   "cell_type": "code",
   "execution_count": 16,
   "metadata": {
    "scrolled": true
   },
   "outputs": [],
   "source": [
    "#Chia thành 5 khoảng, min_Price = 160000 ta lấy biên trái là 150000, max_Price =50000000 làm biên phải\n",
    "cut_bins = [150000,1000000,6000000,10000000,18000000,50000000]"
   ]
  },
  {
   "cell_type": "code",
   "execution_count": 17,
   "metadata": {
    "scrolled": true
   },
   "outputs": [],
   "source": [
    "cut_labels = [1,2,3,4,5]"
   ]
  },
  {
   "cell_type": "code",
   "execution_count": 18,
   "metadata": {
    "scrolled": false
   },
   "outputs": [
    {
     "data": {
      "text/html": [
       "<div>\n",
       "<style scoped>\n",
       "    .dataframe tbody tr th:only-of-type {\n",
       "        vertical-align: middle;\n",
       "    }\n",
       "\n",
       "    .dataframe tbody tr th {\n",
       "        vertical-align: top;\n",
       "    }\n",
       "\n",
       "    .dataframe thead th {\n",
       "        text-align: right;\n",
       "    }\n",
       "</style>\n",
       "<table border=\"1\" class=\"dataframe\">\n",
       "  <thead>\n",
       "    <tr style=\"text-align: right;\">\n",
       "      <th></th>\n",
       "      <th>Brand</th>\n",
       "      <th>Screen</th>\n",
       "      <th>OS</th>\n",
       "      <th>Main_Camera</th>\n",
       "      <th>Front_Camera</th>\n",
       "      <th>CPU</th>\n",
       "      <th>RAM</th>\n",
       "      <th>Storage</th>\n",
       "      <th>Battery</th>\n",
       "      <th>Price</th>\n",
       "      <th>Class</th>\n",
       "    </tr>\n",
       "  </thead>\n",
       "  <tbody>\n",
       "    <tr>\n",
       "      <th>130</th>\n",
       "      <td>vsmart</td>\n",
       "      <td>6.00</td>\n",
       "      <td>Android 9</td>\n",
       "      <td>8.00</td>\n",
       "      <td>5.0</td>\n",
       "      <td>MediaTek</td>\n",
       "      <td>2.0</td>\n",
       "      <td>16.0</td>\n",
       "      <td>3000</td>\n",
       "      <td>1590000</td>\n",
       "      <td>2</td>\n",
       "    </tr>\n",
       "    <tr>\n",
       "      <th>57</th>\n",
       "      <td>vivo</td>\n",
       "      <td>6.44</td>\n",
       "      <td>Android 10</td>\n",
       "      <td>48.00</td>\n",
       "      <td>32.0</td>\n",
       "      <td>Snapdragon</td>\n",
       "      <td>8.0</td>\n",
       "      <td>128.0</td>\n",
       "      <td>4500</td>\n",
       "      <td>7690000</td>\n",
       "      <td>3</td>\n",
       "    </tr>\n",
       "    <tr>\n",
       "      <th>99</th>\n",
       "      <td>xiaomi</td>\n",
       "      <td>6.30</td>\n",
       "      <td>Android 9</td>\n",
       "      <td>48.00</td>\n",
       "      <td>13.0</td>\n",
       "      <td>Snapdragon</td>\n",
       "      <td>3.0</td>\n",
       "      <td>32.0</td>\n",
       "      <td>4000</td>\n",
       "      <td>3990000</td>\n",
       "      <td>2</td>\n",
       "    </tr>\n",
       "    <tr>\n",
       "      <th>127</th>\n",
       "      <td>xiaomi</td>\n",
       "      <td>6.53</td>\n",
       "      <td>Android 10</td>\n",
       "      <td>13.00</td>\n",
       "      <td>5.0</td>\n",
       "      <td>MediaTek</td>\n",
       "      <td>2.0</td>\n",
       "      <td>32.0</td>\n",
       "      <td>5000</td>\n",
       "      <td>1990000</td>\n",
       "      <td>2</td>\n",
       "    </tr>\n",
       "    <tr>\n",
       "      <th>118</th>\n",
       "      <td>vsmart</td>\n",
       "      <td>6.50</td>\n",
       "      <td>Android 9</td>\n",
       "      <td>13.00</td>\n",
       "      <td>8.0</td>\n",
       "      <td>Snapdragon</td>\n",
       "      <td>3.0</td>\n",
       "      <td>32.0</td>\n",
       "      <td>5000</td>\n",
       "      <td>2690000</td>\n",
       "      <td>2</td>\n",
       "    </tr>\n",
       "    <tr>\n",
       "      <th>156</th>\n",
       "      <td>nokia</td>\n",
       "      <td>1.77</td>\n",
       "      <td>NaN</td>\n",
       "      <td>NaN</td>\n",
       "      <td>NaN</td>\n",
       "      <td>NaN</td>\n",
       "      <td>NaN</td>\n",
       "      <td>NaN</td>\n",
       "      <td>800</td>\n",
       "      <td>370000</td>\n",
       "      <td>1</td>\n",
       "    </tr>\n",
       "    <tr>\n",
       "      <th>153</th>\n",
       "      <td>masstel</td>\n",
       "      <td>2.40</td>\n",
       "      <td>NaN</td>\n",
       "      <td>0.08</td>\n",
       "      <td>NaN</td>\n",
       "      <td>NaN</td>\n",
       "      <td>NaN</td>\n",
       "      <td>NaN</td>\n",
       "      <td>2500</td>\n",
       "      <td>400000</td>\n",
       "      <td>1</td>\n",
       "    </tr>\n",
       "    <tr>\n",
       "      <th>41</th>\n",
       "      <td>iphone</td>\n",
       "      <td>4.70</td>\n",
       "      <td>iOS 14</td>\n",
       "      <td>12.00</td>\n",
       "      <td>7.0</td>\n",
       "      <td>Apple</td>\n",
       "      <td>3.0</td>\n",
       "      <td>128.0</td>\n",
       "      <td>1821</td>\n",
       "      <td>12990000</td>\n",
       "      <td>4</td>\n",
       "    </tr>\n",
       "    <tr>\n",
       "      <th>140</th>\n",
       "      <td>itel</td>\n",
       "      <td>2.40</td>\n",
       "      <td>KaiOS</td>\n",
       "      <td>0.30</td>\n",
       "      <td>NaN</td>\n",
       "      <td>Spreadtrum</td>\n",
       "      <td>NaN</td>\n",
       "      <td>4.0</td>\n",
       "      <td>1900</td>\n",
       "      <td>790000</td>\n",
       "      <td>1</td>\n",
       "    </tr>\n",
       "    <tr>\n",
       "      <th>43</th>\n",
       "      <td>iphone</td>\n",
       "      <td>4.70</td>\n",
       "      <td>iOS 14</td>\n",
       "      <td>12.00</td>\n",
       "      <td>7.0</td>\n",
       "      <td>Apple</td>\n",
       "      <td>3.0</td>\n",
       "      <td>64.0</td>\n",
       "      <td>1821</td>\n",
       "      <td>11990000</td>\n",
       "      <td>4</td>\n",
       "    </tr>\n",
       "  </tbody>\n",
       "</table>\n",
       "</div>"
      ],
      "text/plain": [
       "       Brand  Screen          OS  Main_Camera  Front_Camera         CPU  RAM  \\\n",
       "130   vsmart    6.00  Android 9          8.00           5.0    MediaTek  2.0   \n",
       "57      vivo    6.44  Android 10        48.00          32.0  Snapdragon  8.0   \n",
       "99    xiaomi    6.30  Android 9         48.00          13.0  Snapdragon  3.0   \n",
       "127   xiaomi    6.53  Android 10        13.00           5.0    MediaTek  2.0   \n",
       "118   vsmart    6.50  Android 9         13.00           8.0  Snapdragon  3.0   \n",
       "156    nokia    1.77         NaN          NaN           NaN         NaN  NaN   \n",
       "153  masstel    2.40         NaN         0.08           NaN         NaN  NaN   \n",
       "41    iphone    4.70      iOS 14        12.00           7.0       Apple  3.0   \n",
       "140     itel    2.40       KaiOS         0.30           NaN  Spreadtrum  NaN   \n",
       "43    iphone    4.70      iOS 14        12.00           7.0       Apple  3.0   \n",
       "\n",
       "     Storage  Battery     Price  Class  \n",
       "130     16.0     3000   1590000      2  \n",
       "57     128.0     4500   7690000      3  \n",
       "99      32.0     4000   3990000      2  \n",
       "127     32.0     5000   1990000      2  \n",
       "118     32.0     5000   2690000      2  \n",
       "156      NaN      800    370000      1  \n",
       "153      NaN     2500    400000      1  \n",
       "41     128.0     1821  12990000      4  \n",
       "140      4.0     1900    790000      1  \n",
       "43      64.0     1821  11990000      4  "
      ]
     },
     "execution_count": 18,
     "metadata": {},
     "output_type": "execute_result"
    }
   ],
   "source": [
    "df['Class'] = pd.cut(df['Price'], bins=cut_bins, labels = cut_labels).astype(dtype = 'int')\n",
    "\n",
    "df.sample(10)\n"
   ]
  },
  {
   "cell_type": "code",
   "execution_count": 19,
   "metadata": {},
   "outputs": [],
   "source": [
    "df.to_csv('Phone_2021-01-15_dienmayxanh.csv',index = False)"
   ]
  },
  {
   "cell_type": "markdown",
   "metadata": {},
   "source": [
    "Đến đây ta thấy cột Price không còn nhiều ý nghĩa cho việc dự đoán => xoá cột Price"
   ]
  },
  {
   "cell_type": "code",
   "execution_count": 20,
   "metadata": {},
   "outputs": [],
   "source": [
    "df.drop('Price',axis = 1,inplace =True)"
   ]
  },
  {
   "cell_type": "markdown",
   "metadata": {},
   "source": [
    "## Sau bước đầu khám phá dữ liệu và tiền xử lý thô ta đã có thể đưa ra câu hỏi cần trả lời: \"Output được tính từ Input theo công thức nào?\n",
    "**_Input: Thương hiệu và các cột tính năng của điện thoại bao gồm: Brand, Screen, OS, Main_Camera, Front_Camera, CPU     RAM,Storage, Battery**\n",
    "\n",
    "**_Output: cột Class**\n",
    "\n",
    "=> Chúng ta sẽ dự đoán phân khúc tầm giá của một sản phẩm điện thoại mới thông qua thương hiệu và tính năng của nó. Chúng ta thấy rằng, khi ra mắt một sản phẩm smart_phone mới, các nhà sản xuất thường đưa ra tính năng dự kiến trước r mới chính thức đưa ra giá phù hợp với từng thị trường."
   ]
  },
  {
   "cell_type": "markdown",
   "metadata": {},
   "source": [
    "# Khám phá dữ liệu (để biết cách tách các tập)"
   ]
  },
  {
   "cell_type": "code",
   "execution_count": 21,
   "metadata": {},
   "outputs": [
    {
     "data": {
      "text/plain": [
       "dtype('int32')"
      ]
     },
     "execution_count": 21,
     "metadata": {},
     "output_type": "execute_result"
    }
   ],
   "source": [
    "# Cột output hiện có kiểu dữ liệu gì?\n",
    "df['Class'].dtype"
   ]
  },
  {
   "cell_type": "code",
   "execution_count": 22,
   "metadata": {},
   "outputs": [
    {
     "data": {
      "text/plain": [
       "0"
      ]
     },
     "execution_count": 22,
     "metadata": {},
     "output_type": "execute_result"
    }
   ],
   "source": [
    "# Cột output còn có giá trị thiếu không?\n",
    "df['Class'].isna().sum()"
   ]
  },
  {
   "cell_type": "code",
   "execution_count": 23,
   "metadata": {},
   "outputs": [
    {
     "data": {
      "text/plain": [
       "2    36.206897\n",
       "1    23.563218\n",
       "3    16.666667\n",
       "5    14.367816\n",
       "4     9.195402\n",
       "Name: Class, dtype: float64"
      ]
     },
     "execution_count": 23,
     "metadata": {},
     "output_type": "execute_result"
    }
   ],
   "source": [
    "# Tỉ lệ các lớp trong cột output?\n",
    "df['Class'].value_counts(normalize=True) * 100"
   ]
  },
  {
   "cell_type": "markdown",
   "metadata": {},
   "source": [
    "- Cột Price có kiểu dữ liệu Objects Chúng ta cần chuyển sang dạng số mới có thể tách được tập\n",
    "- Cột Price nếu có giá trị thiếu nên ta cần loại bỏ dòng thiếu đi.\n",
    "- Chúng ta cần làm mịn dữ liệu cột price"
   ]
  },
  {
   "cell_type": "markdown",
   "metadata": {},
   "source": [
    "# Tiền xử lý (tách các tập)\n"
   ]
  },
  {
   "cell_type": "code",
   "execution_count": 24,
   "metadata": {},
   "outputs": [],
   "source": [
    "# Tách X và y\n",
    "y_pr = df[\"Class\"] \n",
    "X_df = df.drop(\"Class\", axis=1)"
   ]
  },
  {
   "cell_type": "code",
   "execution_count": 25,
   "metadata": {},
   "outputs": [],
   "source": [
    "# Tách tập huấn luyện và tập test theo tỉ lệ 80%:20%\n",
    "train_X_df, test_X_df, train_y_pr, test_y_pr = train_test_split(X_df, y_pr, test_size=0.2, \n",
    "                                                              random_state=0)\n"
   ]
  },
  {
   "cell_type": "code",
   "execution_count": 26,
   "metadata": {},
   "outputs": [],
   "source": [
    "train_X_df, val_X_df, train_y_pr, val_y_pr = train_test_split(train_X_df, train_y_pr, test_size=0.2, \n",
    "                                                               random_state=0)"
   ]
  },
  {
   "cell_type": "code",
   "execution_count": 27,
   "metadata": {},
   "outputs": [
    {
     "data": {
      "text/plain": [
       "(111, 9)"
      ]
     },
     "execution_count": 27,
     "metadata": {},
     "output_type": "execute_result"
    }
   ],
   "source": [
    "train_X_df.shape"
   ]
  },
  {
   "cell_type": "code",
   "execution_count": 28,
   "metadata": {},
   "outputs": [
    {
     "data": {
      "text/plain": [
       "(111,)"
      ]
     },
     "execution_count": 28,
     "metadata": {},
     "output_type": "execute_result"
    }
   ],
   "source": [
    "train_y_pr.shape"
   ]
  },
  {
   "cell_type": "code",
   "execution_count": 29,
   "metadata": {},
   "outputs": [
    {
     "data": {
      "text/plain": [
       "(35, 9)"
      ]
     },
     "execution_count": 29,
     "metadata": {},
     "output_type": "execute_result"
    }
   ],
   "source": [
    "test_X_df.shape"
   ]
  },
  {
   "cell_type": "code",
   "execution_count": 30,
   "metadata": {},
   "outputs": [
    {
     "data": {
      "text/plain": [
       "(35,)"
      ]
     },
     "execution_count": 30,
     "metadata": {},
     "output_type": "execute_result"
    }
   ],
   "source": [
    "test_y_pr.shape"
   ]
  },
  {
   "cell_type": "code",
   "execution_count": 31,
   "metadata": {},
   "outputs": [
    {
     "data": {
      "text/plain": [
       "(28, 9)"
      ]
     },
     "execution_count": 31,
     "metadata": {},
     "output_type": "execute_result"
    }
   ],
   "source": [
    "val_X_df.shape"
   ]
  },
  {
   "cell_type": "code",
   "execution_count": 32,
   "metadata": {},
   "outputs": [
    {
     "data": {
      "text/plain": [
       "(28,)"
      ]
     },
     "execution_count": 32,
     "metadata": {},
     "output_type": "execute_result"
    }
   ],
   "source": [
    "val_y_pr.shape"
   ]
  },
  {
   "cell_type": "markdown",
   "metadata": {},
   "source": [
    "# Khám phá dữ liệu (tập huấn luyện)"
   ]
  },
  {
   "cell_type": "markdown",
   "metadata": {},
   "source": [
    "### 1. Các cột trong tập huấn luyện đang có kiểu dữ liệu gì?"
   ]
  },
  {
   "cell_type": "code",
   "execution_count": 33,
   "metadata": {},
   "outputs": [
    {
     "data": {
      "text/plain": [
       "Brand            object\n",
       "Screen          float64\n",
       "OS               object\n",
       "Main_Camera     float64\n",
       "Front_Camera    float64\n",
       "CPU              object\n",
       "RAM             float64\n",
       "Storage         float64\n",
       "Battery           int64\n",
       "dtype: object"
      ]
     },
     "execution_count": 33,
     "metadata": {},
     "output_type": "execute_result"
    }
   ],
   "source": [
    "train_X_df.dtypes"
   ]
  },
  {
   "cell_type": "markdown",
   "metadata": {},
   "source": [
    "=> Các cột đang có kiểu dữ liệu phù hợp\n",
    "Bao gồm 3 cột category : Brand, OS,CPU"
   ]
  },
  {
   "cell_type": "markdown",
   "metadata": {},
   "source": [
    "## 2. Với cột input dạng số, chúng phân bố như thế nào?"
   ]
  },
  {
   "cell_type": "code",
   "execution_count": 34,
   "metadata": {},
   "outputs": [
    {
     "data": {
      "text/html": [
       "<div>\n",
       "<style scoped>\n",
       "    .dataframe tbody tr th:only-of-type {\n",
       "        vertical-align: middle;\n",
       "    }\n",
       "\n",
       "    .dataframe tbody tr th {\n",
       "        vertical-align: top;\n",
       "    }\n",
       "\n",
       "    .dataframe thead th {\n",
       "        text-align: right;\n",
       "    }\n",
       "</style>\n",
       "<table border=\"1\" class=\"dataframe\">\n",
       "  <thead>\n",
       "    <tr style=\"text-align: right;\">\n",
       "      <th></th>\n",
       "      <th>Screen</th>\n",
       "      <th>Main_Camera</th>\n",
       "      <th>Front_Camera</th>\n",
       "      <th>RAM</th>\n",
       "      <th>Storage</th>\n",
       "      <th>Battery</th>\n",
       "    </tr>\n",
       "  </thead>\n",
       "  <tbody>\n",
       "    <tr>\n",
       "      <th>count</th>\n",
       "      <td>111.000000</td>\n",
       "      <td>98.000000</td>\n",
       "      <td>87.000000</td>\n",
       "      <td>86.000000</td>\n",
       "      <td>87.000000</td>\n",
       "      <td>111.000000</td>\n",
       "    </tr>\n",
       "    <tr>\n",
       "      <th>mean</th>\n",
       "      <td>5.389550</td>\n",
       "      <td>25.544898</td>\n",
       "      <td>13.620690</td>\n",
       "      <td>5.151163</td>\n",
       "      <td>113.333333</td>\n",
       "      <td>3546.927928</td>\n",
       "    </tr>\n",
       "    <tr>\n",
       "      <th>std</th>\n",
       "      <td>1.794457</td>\n",
       "      <td>26.003357</td>\n",
       "      <td>9.437975</td>\n",
       "      <td>2.513575</td>\n",
       "      <td>83.788586</td>\n",
       "      <td>1520.485046</td>\n",
       "    </tr>\n",
       "    <tr>\n",
       "      <th>min</th>\n",
       "      <td>1.770000</td>\n",
       "      <td>0.080000</td>\n",
       "      <td>2.000000</td>\n",
       "      <td>1.000000</td>\n",
       "      <td>4.000000</td>\n",
       "      <td>800.000000</td>\n",
       "    </tr>\n",
       "    <tr>\n",
       "      <th>25%</th>\n",
       "      <td>4.700000</td>\n",
       "      <td>8.000000</td>\n",
       "      <td>8.000000</td>\n",
       "      <td>3.000000</td>\n",
       "      <td>64.000000</td>\n",
       "      <td>2113.500000</td>\n",
       "    </tr>\n",
       "    <tr>\n",
       "      <th>50%</th>\n",
       "      <td>6.400000</td>\n",
       "      <td>13.000000</td>\n",
       "      <td>10.000000</td>\n",
       "      <td>4.000000</td>\n",
       "      <td>128.000000</td>\n",
       "      <td>4000.000000</td>\n",
       "    </tr>\n",
       "    <tr>\n",
       "      <th>75%</th>\n",
       "      <td>6.505000</td>\n",
       "      <td>48.000000</td>\n",
       "      <td>16.000000</td>\n",
       "      <td>8.000000</td>\n",
       "      <td>128.000000</td>\n",
       "      <td>5000.000000</td>\n",
       "    </tr>\n",
       "    <tr>\n",
       "      <th>max</th>\n",
       "      <td>7.590000</td>\n",
       "      <td>108.000000</td>\n",
       "      <td>44.000000</td>\n",
       "      <td>12.000000</td>\n",
       "      <td>512.000000</td>\n",
       "      <td>6000.000000</td>\n",
       "    </tr>\n",
       "  </tbody>\n",
       "</table>\n",
       "</div>"
      ],
      "text/plain": [
       "           Screen  Main_Camera  Front_Camera        RAM     Storage  \\\n",
       "count  111.000000    98.000000     87.000000  86.000000   87.000000   \n",
       "mean     5.389550    25.544898     13.620690   5.151163  113.333333   \n",
       "std      1.794457    26.003357      9.437975   2.513575   83.788586   \n",
       "min      1.770000     0.080000      2.000000   1.000000    4.000000   \n",
       "25%      4.700000     8.000000      8.000000   3.000000   64.000000   \n",
       "50%      6.400000    13.000000     10.000000   4.000000  128.000000   \n",
       "75%      6.505000    48.000000     16.000000   8.000000  128.000000   \n",
       "max      7.590000   108.000000     44.000000  12.000000  512.000000   \n",
       "\n",
       "           Battery  \n",
       "count   111.000000  \n",
       "mean   3546.927928  \n",
       "std    1520.485046  \n",
       "min     800.000000  \n",
       "25%    2113.500000  \n",
       "50%    4000.000000  \n",
       "75%    5000.000000  \n",
       "max    6000.000000  "
      ]
     },
     "execution_count": 34,
     "metadata": {},
     "output_type": "execute_result"
    }
   ],
   "source": [
    "train_X_df.describe()"
   ]
  },
  {
   "cell_type": "code",
   "execution_count": 35,
   "metadata": {},
   "outputs": [
    {
     "data": {
      "text/html": [
       "<div>\n",
       "<style scoped>\n",
       "    .dataframe tbody tr th:only-of-type {\n",
       "        vertical-align: middle;\n",
       "    }\n",
       "\n",
       "    .dataframe tbody tr th {\n",
       "        vertical-align: top;\n",
       "    }\n",
       "\n",
       "    .dataframe thead th {\n",
       "        text-align: right;\n",
       "    }\n",
       "</style>\n",
       "<table border=\"1\" class=\"dataframe\">\n",
       "  <thead>\n",
       "    <tr style=\"text-align: right;\">\n",
       "      <th></th>\n",
       "      <th>Screen</th>\n",
       "      <th>Main_Camera</th>\n",
       "      <th>Front_Camera</th>\n",
       "      <th>RAM</th>\n",
       "      <th>Storage</th>\n",
       "      <th>Battery</th>\n",
       "    </tr>\n",
       "  </thead>\n",
       "  <tbody>\n",
       "    <tr>\n",
       "      <th>missing_ratio</th>\n",
       "      <td>0.00</td>\n",
       "      <td>11.70</td>\n",
       "      <td>21.6</td>\n",
       "      <td>22.5</td>\n",
       "      <td>21.6</td>\n",
       "      <td>0.0</td>\n",
       "    </tr>\n",
       "    <tr>\n",
       "      <th>min</th>\n",
       "      <td>1.77</td>\n",
       "      <td>0.08</td>\n",
       "      <td>2.0</td>\n",
       "      <td>1.0</td>\n",
       "      <td>4.0</td>\n",
       "      <td>800.0</td>\n",
       "    </tr>\n",
       "    <tr>\n",
       "      <th>lower_quartile</th>\n",
       "      <td>4.70</td>\n",
       "      <td>8.00</td>\n",
       "      <td>8.0</td>\n",
       "      <td>3.0</td>\n",
       "      <td>64.0</td>\n",
       "      <td>2113.5</td>\n",
       "    </tr>\n",
       "    <tr>\n",
       "      <th>median</th>\n",
       "      <td>6.40</td>\n",
       "      <td>13.00</td>\n",
       "      <td>10.0</td>\n",
       "      <td>4.0</td>\n",
       "      <td>128.0</td>\n",
       "      <td>4000.0</td>\n",
       "    </tr>\n",
       "    <tr>\n",
       "      <th>upper_quartile</th>\n",
       "      <td>6.50</td>\n",
       "      <td>48.00</td>\n",
       "      <td>16.0</td>\n",
       "      <td>8.0</td>\n",
       "      <td>128.0</td>\n",
       "      <td>5000.0</td>\n",
       "    </tr>\n",
       "    <tr>\n",
       "      <th>max</th>\n",
       "      <td>7.59</td>\n",
       "      <td>108.00</td>\n",
       "      <td>44.0</td>\n",
       "      <td>12.0</td>\n",
       "      <td>512.0</td>\n",
       "      <td>6000.0</td>\n",
       "    </tr>\n",
       "  </tbody>\n",
       "</table>\n",
       "</div>"
      ],
      "text/plain": [
       "                Screen  Main_Camera  Front_Camera   RAM  Storage  Battery\n",
       "missing_ratio     0.00        11.70          21.6  22.5     21.6      0.0\n",
       "min               1.77         0.08           2.0   1.0      4.0    800.0\n",
       "lower_quartile    4.70         8.00           8.0   3.0     64.0   2113.5\n",
       "median            6.40        13.00          10.0   4.0    128.0   4000.0\n",
       "upper_quartile    6.50        48.00          16.0   8.0    128.0   5000.0\n",
       "max               7.59       108.00          44.0  12.0    512.0   6000.0"
      ]
     },
     "execution_count": 35,
     "metadata": {},
     "output_type": "execute_result"
    }
   ],
   "source": [
    "num_cols = ['Screen', 'Main_Camera', 'Front_Camera', 'RAM','Storage','Battery']\n",
    "df_train = train_X_df[num_cols]\n",
    "def missing_ratio(df):\n",
    "    return (df.isna().mean() * 100).round(1)\n",
    "def lower_quartile(df):\n",
    "    return df.quantile(0.25).round(1)\n",
    "def median(df):\n",
    "    return df.quantile(0.5).round(1)\n",
    "def upper_quartile(df):\n",
    "    return df.quantile(0.75).round(1)\n",
    "df_train.agg([missing_ratio, 'min', lower_quartile, median, upper_quartile, 'max'])"
   ]
  },
  {
   "cell_type": "markdown",
   "metadata": {},
   "source": [
    "Ta nhận thấy, tỉ lệ missing value của các cột dạng số < 30% nên chúng ta có thể xử lý và không cần bỏ cột nào."
   ]
  },
  {
   "cell_type": "markdown",
   "metadata": {},
   "source": [
    "### 3. Với các cột input không thể dạng số, các giá trị được phân bố như thế nào?"
   ]
  },
  {
   "cell_type": "code",
   "execution_count": 36,
   "metadata": {},
   "outputs": [
    {
     "data": {
      "text/html": [
       "<div>\n",
       "<style scoped>\n",
       "    .dataframe tbody tr th:only-of-type {\n",
       "        vertical-align: middle;\n",
       "    }\n",
       "\n",
       "    .dataframe tbody tr th {\n",
       "        vertical-align: top;\n",
       "    }\n",
       "\n",
       "    .dataframe thead th {\n",
       "        text-align: right;\n",
       "    }\n",
       "</style>\n",
       "<table border=\"1\" class=\"dataframe\">\n",
       "  <thead>\n",
       "    <tr style=\"text-align: right;\">\n",
       "      <th></th>\n",
       "      <th>OS</th>\n",
       "      <th>Brand</th>\n",
       "      <th>CPU</th>\n",
       "    </tr>\n",
       "  </thead>\n",
       "  <tbody>\n",
       "    <tr>\n",
       "      <th>missing_ratio</th>\n",
       "      <td>22.5</td>\n",
       "      <td>0</td>\n",
       "      <td>21.6</td>\n",
       "    </tr>\n",
       "    <tr>\n",
       "      <th>num_values</th>\n",
       "      <td>9</td>\n",
       "      <td>13</td>\n",
       "      <td>5</td>\n",
       "    </tr>\n",
       "    <tr>\n",
       "      <th>value_ratios</th>\n",
       "      <td>{'Android 10': 62.8, 'Android 9 ': 16.3, 'iOS 14': 12.8, 'Android 8 ': 2.3, 'KaiOS': 1.2, 'EMUI 10 ': 1.2, 'Android 10 ': 1.2, 'iOS 12': 1.2, 'Android 11': 1.2}</td>\n",
       "      <td>{'samsung': 15.3, 'nokia': 12.6, 'iphone': 10.8, 'xiaomi': 9.0, 'oppo': 9.0, 'vivo': 9.0, 'masstel': 8.1, 'realme': 8.1, 'vsmart': 8.1, 'mobell': 3.6, 'energizer': 2.7, 'itel': 2.7, 'huawei': 0.9}</td>\n",
       "      <td>{'Snapdragon': 43.7, 'MediaTek': 28.7, 'Apple': 13.8, 'Exynos': 11.5, 'Spreadtrum': 2.3}</td>\n",
       "    </tr>\n",
       "  </tbody>\n",
       "</table>\n",
       "</div>"
      ],
      "text/plain": [
       "                                                                                                                                                                             OS  \\\n",
       "missing_ratio                                                                                                                                                              22.5   \n",
       "num_values                                                                                                                                                                    9   \n",
       "value_ratios   {'Android 10': 62.8, 'Android 9 ': 16.3, 'iOS 14': 12.8, 'Android 8 ': 2.3, 'KaiOS': 1.2, 'EMUI 10 ': 1.2, 'Android 10 ': 1.2, 'iOS 12': 1.2, 'Android 11': 1.2}   \n",
       "\n",
       "                                                                                                                                                                                                              Brand  \\\n",
       "missing_ratio                                                                                                                                                                                                     0   \n",
       "num_values                                                                                                                                                                                                       13   \n",
       "value_ratios   {'samsung': 15.3, 'nokia': 12.6, 'iphone': 10.8, 'xiaomi': 9.0, 'oppo': 9.0, 'vivo': 9.0, 'masstel': 8.1, 'realme': 8.1, 'vsmart': 8.1, 'mobell': 3.6, 'energizer': 2.7, 'itel': 2.7, 'huawei': 0.9}   \n",
       "\n",
       "                                                                                                    CPU  \n",
       "missing_ratio                                                                                      21.6  \n",
       "num_values                                                                                            5  \n",
       "value_ratios   {'Snapdragon': 43.7, 'MediaTek': 28.7, 'Apple': 13.8, 'Exynos': 11.5, 'Spreadtrum': 2.3}  "
      ]
     },
     "execution_count": 36,
     "metadata": {},
     "output_type": "execute_result"
    }
   ],
   "source": [
    "pd.set_option('display.max_colwidth', 200) # Để nhìn rõ hơn\n",
    "cat_cols = list(set(train_X_df.columns) - set(num_cols))\n",
    "df_train = train_X_df[cat_cols]\n",
    "def missing_ratio(df):\n",
    "    return (df.isna().mean() * 100).round(1)\n",
    "def num_values(df):\n",
    "    return df.nunique()\n",
    "def value_ratios(c):\n",
    "    return dict((c.value_counts(normalize=True) * 100).round(1))\n",
    "df_train.agg([missing_ratio, num_values, value_ratios])"
   ]
  },
  {
   "cell_type": "markdown",
   "metadata": {},
   "source": [
    "Các cột không phải số, có tỉ lệ missing value < 30%\n",
    "Ta nhận thấy, cột Brand, OS có nhiều giá trị khác nhau."
   ]
  },
  {
   "cell_type": "markdown",
   "metadata": {},
   "source": [
    "## Tiền xử lý (tập huấn luyện) "
   ]
  },
  {
   "cell_type": "markdown",
   "metadata": {},
   "source": [
    "**1.Biến đổi giá trị các cột cho việc huấn luyện hiệu quả hơn:**\n",
    "- Cột Brand: Lấy top_brand (ví dụ lấy 5 brand phổ biến nhất), những giá trị khác biến thành Others\n",
    "- Cột OS: trước hết ta điền missing value trong cột với 'No Support'. Tiếp đến,ta nhận thấy có 2 giá trị khác nhau 'Android 10' và 'Android 10 ' do một giá trị bị dư khoảng trắng phía sau số 10, ta tiến hành chuyển 'Android 10 ' thành Android 10. Rồi lấy top_Operations như cột Brand.\n",
    "\n",
    "**2.Xử lý giá trị thiếu và chuyển cột không phải dạng số về dạng số:**\n",
    "- Đối với những cột là dạng số:\n",
    "    - Cột Screen & Battery không có giá trị thiếu.\n",
    "    - Các cột 'Main_Camera','Front_Camera','RAM','Storage': các cột này bị thiếu chủ yếu do các mẫu điện thoại tương ứng ở phân khúc thấp không hỗ trợ tính năng đó. Vì vậy ta sẽ cho giá trị bằng 0.\n",
    "- Đối với những cột không phải dạng số:\n",
    "    - Cột Brand không có giá trị thiếu.\n",
    "    - Cột CPU : với những giá trị thiếu ta sẽ cho là 'No Support' (Cột OS đã điền giá trị thiếu ở trên bước 1)"
   ]
  },
  {
   "cell_type": "markdown",
   "metadata": {},
   "source": [
    "##### Bước 1: Biến đổi giá trị các cột cho việc huấn luyện hiệu quả hơn\n",
    "\n",
    "(class ColTrans tham khảo class ColAdderDropper của BT03-TienXuLy_MoHinhHoa)"
   ]
  },
  {
   "cell_type": "code",
   "execution_count": 37,
   "metadata": {},
   "outputs": [],
   "source": [
    "class ColTrans_Brand(BaseEstimator, TransformerMixin):\n",
    "    def __init__(self, num_top_brands =1):\n",
    "        self.num_top_brands = num_top_brands\n",
    "        \n",
    "        \n",
    "    def fit(self, X_df, y=None):\n",
    "            X_df_trans =X_df.copy()\n",
    "            Brand_col = X_df_trans['Brand']\n",
    "            self.Brand_counts = Brand_col.value_counts()\n",
    "            Brands = list(self.Brand_counts.index)\n",
    "            self.top_Brands = Brands[:max(1, min(self.num_top_brands, len(Brands)))]\n",
    "            return self\n",
    "    def transform(self, X_df, y=None):\n",
    "            X_df_trans =X_df.copy()\n",
    "            Brand = X_df_trans['Brand']\n",
    "            for br in Brand:\n",
    "                if br not in self.top_Brands:\n",
    "                    Brand = Brand.str.replace(br,'Others')\n",
    "            X_df_trans['Brand'] = Brand\n",
    "            \n",
    "            return X_df_trans"
   ]
  },
  {
   "cell_type": "code",
   "execution_count": 38,
   "metadata": {},
   "outputs": [],
   "source": [
    "# Note: Class này sẽ được gọi sau khi cột Operation đã điền giá trị thiếu\n",
    "class ColTrans_OS(BaseEstimator, TransformerMixin):\n",
    "    def __init__(self, num_top_os =1):\n",
    "        self.num_top_os = num_top_os\n",
    "    def fit(self, X_df, y=None):\n",
    "            X_df_trans = X_df.copy()\n",
    "            OS_col = X_df_trans['OS']\n",
    "            OS_col = OS_col.fillna('No Support')\n",
    "            for op in  OS_col:\n",
    "                if op == 'Android 10 ':\n",
    "                    OS_col = OS_col.str.replace(op,'Android 10')\n",
    "            self.OS_counts =  OS_col.value_counts()\n",
    "            OS_s = list(self.OS_counts.index)\n",
    "            self.top_OS_s = OS_s[:max(1, min(self.num_top_os, len(OS_s)))]\n",
    "            return self\n",
    "    def transform(self, X_df, y=None):\n",
    "            X_df_trans = X_df.copy()\n",
    "            OS =  X_df_trans['OS']\n",
    "            OS = OS.fillna('No Support')\n",
    "            for op in OS:\n",
    "                if op not in self.top_OS_s:\n",
    "                    OS = OS.str.replace(op,'Others')\n",
    "            X_df_trans['OS'] = OS\n",
    "            return X_df_trans"
   ]
  },
  {
   "cell_type": "markdown",
   "metadata": {},
   "source": [
    "#### 2.Xử lý giá trị thiếu:"
   ]
  },
  {
   "cell_type": "code",
   "execution_count": 39,
   "metadata": {},
   "outputs": [
    {
     "data": {
      "text/plain": [
       "array([[3.41477308, 0.46767916, 0.69841857, ..., 0.        , 0.        ,\n",
       "        0.        ],\n",
       "       [3.62189866, 0.50665242, 0.79819265, ..., 0.        , 0.        ,\n",
       "        0.        ],\n",
       "       [3.64429061, 0.50665242, 0.79819265, ..., 0.        , 0.        ,\n",
       "        0.        ],\n",
       "       ...,\n",
       "       [3.73385843, 4.20911243, 1.99548164, ..., 0.        , 2.10751052,\n",
       "        0.        ],\n",
       "       [0.99084399, 0.        , 0.        , ..., 2.42916901, 0.        ,\n",
       "        0.        ],\n",
       "       [3.60510469, 1.87071664, 3.19277062, ..., 0.        , 2.10751052,\n",
       "        0.        ]])"
      ]
     },
     "execution_count": 39,
     "metadata": {},
     "output_type": "execute_result"
    }
   ],
   "source": [
    "num_cols = ['Screen','Main_Camera','Front_Camera','RAM','Storage','Battery']\n",
    "cate_cols = ['Brand','OS','CPU']\n",
    "\n",
    "num_cols_trans = SimpleImputer(missing_values= np.nan,strategy = 'constant',fill_value = 0)\n",
    "cate_cols_trans_nan = SimpleImputer(missing_values= np.nan,strategy = 'constant',fill_value = 'No Support')\n",
    "cate_cols_trans_to_Num = OneHotEncoder(handle_unknown = 'ignore')\n",
    "cate_cols_trans = make_pipeline(cate_cols_trans_nan,cate_cols_trans_to_Num)\n",
    "\n",
    "preprocess_pipeline = make_pipeline(ColTrans_Brand(num_top_brands = 6),ColTrans_OS(num_top_os = 4),make_column_transformer((num_cols_trans,num_cols),(cate_cols_trans,cate_cols)),StandardScaler(with_mean = False))\n",
    "preprocessed_train_X = preprocess_pipeline.fit_transform(train_X_df)\n",
    "preprocessed_train_X"
   ]
  },
  {
   "cell_type": "code",
   "execution_count": 40,
   "metadata": {},
   "outputs": [
    {
     "data": {
      "text/html": [
       "<style>div.sk-top-container {color: black;background-color: white;}div.sk-toggleable {background-color: white;}label.sk-toggleable__label {cursor: pointer;display: block;width: 100%;margin-bottom: 0;padding: 0.2em 0.3em;box-sizing: border-box;text-align: center;}div.sk-toggleable__content {max-height: 0;max-width: 0;overflow: hidden;text-align: left;background-color: #f0f8ff;}div.sk-toggleable__content pre {margin: 0.2em;color: black;border-radius: 0.25em;background-color: #f0f8ff;}input.sk-toggleable__control:checked~div.sk-toggleable__content {max-height: 200px;max-width: 100%;overflow: auto;}div.sk-estimator input.sk-toggleable__control:checked~label.sk-toggleable__label {background-color: #d4ebff;}div.sk-label input.sk-toggleable__control:checked~label.sk-toggleable__label {background-color: #d4ebff;}input.sk-hidden--visually {border: 0;clip: rect(1px 1px 1px 1px);clip: rect(1px, 1px, 1px, 1px);height: 1px;margin: -1px;overflow: hidden;padding: 0;position: absolute;width: 1px;}div.sk-estimator {font-family: monospace;background-color: #f0f8ff;margin: 0.25em 0.25em;border: 1px dotted black;border-radius: 0.25em;box-sizing: border-box;}div.sk-estimator:hover {background-color: #d4ebff;}div.sk-parallel-item::after {content: \"\";width: 100%;border-bottom: 1px solid gray;flex-grow: 1;}div.sk-label:hover label.sk-toggleable__label {background-color: #d4ebff;}div.sk-serial::before {content: \"\";position: absolute;border-left: 1px solid gray;box-sizing: border-box;top: 2em;bottom: 0;left: 50%;}div.sk-serial {display: flex;flex-direction: column;align-items: center;background-color: white;}div.sk-item {z-index: 1;}div.sk-parallel {display: flex;align-items: stretch;justify-content: center;background-color: white;}div.sk-parallel-item {display: flex;flex-direction: column;position: relative;background-color: white;}div.sk-parallel-item:first-child::after {align-self: flex-end;width: 50%;}div.sk-parallel-item:last-child::after {align-self: flex-start;width: 50%;}div.sk-parallel-item:only-child::after {width: 0;}div.sk-dashed-wrapped {border: 1px dashed gray;margin: 0.2em;box-sizing: border-box;padding-bottom: 0.1em;background-color: white;position: relative;}div.sk-label label {font-family: monospace;font-weight: bold;background-color: white;display: inline-block;line-height: 1.2em;}div.sk-label-container {position: relative;z-index: 2;text-align: center;}div.sk-container {display: inline-block;position: relative;}</style><div class=\"sk-top-container\"><div class=\"sk-container\"><div class=\"sk-item sk-dashed-wrapped\"><div class=\"sk-label-container\"><div class=\"sk-label sk-toggleable\"><input class=\"sk-toggleable__control sk-hidden--visually\" id=\"b4230ba5-4c1b-4230-bca2-f83fa821ec1c\" type=\"checkbox\" ><label class=\"sk-toggleable__label\" for=\"b4230ba5-4c1b-4230-bca2-f83fa821ec1c\">Pipeline</label><div class=\"sk-toggleable__content\"><pre>Pipeline(steps=[('coltrans_brand', ColTrans_Brand(num_top_brands=6)),\n",
       "                ('coltrans_os', ColTrans_OS(num_top_os=4)),\n",
       "                ('columntransformer',\n",
       "                 ColumnTransformer(transformers=[('simpleimputer',\n",
       "                                                  SimpleImputer(fill_value=0,\n",
       "                                                                strategy='constant'),\n",
       "                                                  ['Screen', 'Main_Camera',\n",
       "                                                   'Front_Camera', 'RAM',\n",
       "                                                   'Storage', 'Battery']),\n",
       "                                                 ('pipeline',\n",
       "                                                  Pipeline(steps=[('simpleimputer',\n",
       "                                                                   SimpleImputer(fill_value='No '\n",
       "                                                                                            'Support',\n",
       "                                                                                 strategy='constant')),\n",
       "                                                                  ('onehotencoder',\n",
       "                                                                   OneHotEncoder(handle_unknown='ignore'))]),\n",
       "                                                  ['Brand', 'OS', 'CPU'])])),\n",
       "                ('standardscaler', StandardScaler(with_mean=False))])</pre></div></div></div><div class=\"sk-serial\"><div class=\"sk-item\"><div class=\"sk-estimator sk-toggleable\"><input class=\"sk-toggleable__control sk-hidden--visually\" id=\"53f50ec6-609a-4efe-8864-5672c70fdedc\" type=\"checkbox\" ><label class=\"sk-toggleable__label\" for=\"53f50ec6-609a-4efe-8864-5672c70fdedc\">ColTrans_Brand</label><div class=\"sk-toggleable__content\"><pre>ColTrans_Brand(num_top_brands=6)</pre></div></div></div><div class=\"sk-item\"><div class=\"sk-estimator sk-toggleable\"><input class=\"sk-toggleable__control sk-hidden--visually\" id=\"1fae8593-d1bc-4223-99e9-5902302e0455\" type=\"checkbox\" ><label class=\"sk-toggleable__label\" for=\"1fae8593-d1bc-4223-99e9-5902302e0455\">ColTrans_OS</label><div class=\"sk-toggleable__content\"><pre>ColTrans_OS(num_top_os=4)</pre></div></div></div><div class=\"sk-item sk-dashed-wrapped\"><div class=\"sk-label-container\"><div class=\"sk-label sk-toggleable\"><input class=\"sk-toggleable__control sk-hidden--visually\" id=\"de93e1b8-67cb-4d72-9888-7cb9b62ade95\" type=\"checkbox\" ><label class=\"sk-toggleable__label\" for=\"de93e1b8-67cb-4d72-9888-7cb9b62ade95\">columntransformer: ColumnTransformer</label><div class=\"sk-toggleable__content\"><pre>ColumnTransformer(transformers=[('simpleimputer',\n",
       "                                 SimpleImputer(fill_value=0,\n",
       "                                               strategy='constant'),\n",
       "                                 ['Screen', 'Main_Camera', 'Front_Camera',\n",
       "                                  'RAM', 'Storage', 'Battery']),\n",
       "                                ('pipeline',\n",
       "                                 Pipeline(steps=[('simpleimputer',\n",
       "                                                  SimpleImputer(fill_value='No '\n",
       "                                                                           'Support',\n",
       "                                                                strategy='constant')),\n",
       "                                                 ('onehotencoder',\n",
       "                                                  OneHotEncoder(handle_unknown='ignore'))]),\n",
       "                                 ['Brand', 'OS', 'CPU'])])</pre></div></div></div><div class=\"sk-parallel\"><div class=\"sk-parallel-item\"><div class=\"sk-item\"><div class=\"sk-label-container\"><div class=\"sk-label sk-toggleable\"><input class=\"sk-toggleable__control sk-hidden--visually\" id=\"9cb11c94-6019-453d-9521-71e00e2de100\" type=\"checkbox\" ><label class=\"sk-toggleable__label\" for=\"9cb11c94-6019-453d-9521-71e00e2de100\">simpleimputer</label><div class=\"sk-toggleable__content\"><pre>['Screen', 'Main_Camera', 'Front_Camera', 'RAM', 'Storage', 'Battery']</pre></div></div></div><div class=\"sk-serial\"><div class=\"sk-item\"><div class=\"sk-estimator sk-toggleable\"><input class=\"sk-toggleable__control sk-hidden--visually\" id=\"61583c87-16d6-4f01-982f-fdbf3b4f1699\" type=\"checkbox\" ><label class=\"sk-toggleable__label\" for=\"61583c87-16d6-4f01-982f-fdbf3b4f1699\">SimpleImputer</label><div class=\"sk-toggleable__content\"><pre>SimpleImputer(fill_value=0, strategy='constant')</pre></div></div></div></div></div></div><div class=\"sk-parallel-item\"><div class=\"sk-item\"><div class=\"sk-label-container\"><div class=\"sk-label sk-toggleable\"><input class=\"sk-toggleable__control sk-hidden--visually\" id=\"fa546753-bfba-4b9b-a9b3-b1f75a2e51bd\" type=\"checkbox\" ><label class=\"sk-toggleable__label\" for=\"fa546753-bfba-4b9b-a9b3-b1f75a2e51bd\">pipeline</label><div class=\"sk-toggleable__content\"><pre>['Brand', 'OS', 'CPU']</pre></div></div></div><div class=\"sk-serial\"><div class=\"sk-item\"><div class=\"sk-serial\"><div class=\"sk-item\"><div class=\"sk-estimator sk-toggleable\"><input class=\"sk-toggleable__control sk-hidden--visually\" id=\"f620dd23-7d13-41e9-b742-42f577659490\" type=\"checkbox\" ><label class=\"sk-toggleable__label\" for=\"f620dd23-7d13-41e9-b742-42f577659490\">SimpleImputer</label><div class=\"sk-toggleable__content\"><pre>SimpleImputer(fill_value='No Support', strategy='constant')</pre></div></div></div><div class=\"sk-item\"><div class=\"sk-estimator sk-toggleable\"><input class=\"sk-toggleable__control sk-hidden--visually\" id=\"e90e9027-400c-42b6-8f6e-d121e36bebc7\" type=\"checkbox\" ><label class=\"sk-toggleable__label\" for=\"e90e9027-400c-42b6-8f6e-d121e36bebc7\">OneHotEncoder</label><div class=\"sk-toggleable__content\"><pre>OneHotEncoder(handle_unknown='ignore')</pre></div></div></div></div></div></div></div></div></div></div><div class=\"sk-item\"><div class=\"sk-estimator sk-toggleable\"><input class=\"sk-toggleable__control sk-hidden--visually\" id=\"835e367e-0ffd-4fb3-92dc-b4bae176b3ec\" type=\"checkbox\" ><label class=\"sk-toggleable__label\" for=\"835e367e-0ffd-4fb3-92dc-b4bae176b3ec\">StandardScaler</label><div class=\"sk-toggleable__content\"><pre>StandardScaler(with_mean=False)</pre></div></div></div></div></div></div></div>"
      ],
      "text/plain": [
       "Pipeline(steps=[('coltrans_brand', ColTrans_Brand(num_top_brands=6)),\n",
       "                ('coltrans_os', ColTrans_OS(num_top_os=4)),\n",
       "                ('columntransformer',\n",
       "                 ColumnTransformer(transformers=[('simpleimputer',\n",
       "                                                  SimpleImputer(fill_value=0,\n",
       "                                                                strategy='constant'),\n",
       "                                                  ['Screen', 'Main_Camera',\n",
       "                                                   'Front_Camera', 'RAM',\n",
       "                                                   'Storage', 'Battery']),\n",
       "                                                 ('pipeline',\n",
       "                                                  Pipeline(steps=[('simpleimputer',\n",
       "                                                                   SimpleImputer(fill_value='No '\n",
       "                                                                                            'Support',\n",
       "                                                                                 strategy='constant')),\n",
       "                                                                  ('onehotencoder',\n",
       "                                                                   OneHotEncoder(handle_unknown='ignore'))]),\n",
       "                                                  ['Brand', 'OS', 'CPU'])])),\n",
       "                ('standardscaler', StandardScaler(with_mean=False))])"
      ]
     },
     "execution_count": 40,
     "metadata": {},
     "output_type": "execute_result"
    }
   ],
   "source": [
    "preprocess_pipeline"
   ]
  },
  {
   "cell_type": "markdown",
   "metadata": {},
   "source": [
    "## Tiền xử lý (tập Validation)"
   ]
  },
  {
   "cell_type": "code",
   "execution_count": 41,
   "metadata": {},
   "outputs": [],
   "source": [
    "preprocessed_val_X = preprocess_pipeline.transform(val_X_df)"
   ]
  },
  {
   "cell_type": "markdown",
   "metadata": {},
   "source": [
    "## 3. Tiền xử lý + mô hình hóa"
   ]
  },
  {
   "cell_type": "markdown",
   "metadata": {},
   "source": [
    "### a. Mô hình Neural Networks"
   ]
  },
  {
   "cell_type": "code",
   "execution_count": 42,
   "metadata": {},
   "outputs": [
    {
     "data": {
      "text/plain": [
       "38     4\n",
       "90     2\n",
       "93     2\n",
       "119    2\n",
       "139    1\n",
       "      ..\n",
       "156    1\n",
       "34     4\n",
       "3      4\n",
       "149    1\n",
       "50     3\n",
       "Name: Class, Length: 111, dtype: int32"
      ]
     },
     "execution_count": 42,
     "metadata": {},
     "output_type": "execute_result"
    }
   ],
   "source": [
    "train_y_pr"
   ]
  },
  {
   "cell_type": "code",
   "execution_count": 43,
   "metadata": {},
   "outputs": [],
   "source": [
    "# tạo full_pipeline\n",
    "num_cols = ['Screen','Main_Camera','Front_Camera','RAM','Storage','Battery']\n",
    "cate_cols = ['Brand','OS','CPU']\n",
    "\n",
    "Neural_Net = MLPClassifier(hidden_layer_sizes= (20), activation='tanh',solver='lbfgs',random_state=0, max_iter=3000)\n",
    "full_pipeline = make_pipeline(preprocess_pipeline,Neural_Net)\n",
    "\n",
    "# Thử nghiệm chọn các giá trị khác nhau của các siêu tham số và chọn ra giá trị tốt nhất\n",
    "train_errs = []\n",
    "val_errs = []\n",
    "alphas = [0.1, 1, 10, 100, 1000]\n",
    "num_top_s = [1, 3, 5, 6, 9, 11]\n",
    "\n",
    "\n",
    "best_val_err = float('inf'); best_alpha = None; best_num_top_s = None\n",
    "for alpha in alphas:\n",
    "    for num_top in num_top_s:\n",
    "        \n",
    "        full_pipeline.set_params(pipeline__coltrans_brand__num_top_brands = num_top,pipeline__coltrans_os__num_top_os = num_top, mlpclassifier__alpha = alpha)\n",
    "        train_df = full_pipeline.fit(train_X_df,train_y_pr)\n",
    "        train_errs.append((1 - train_df.score(train_X_df,train_y_pr))*100)\n",
    "        train_val = full_pipeline.predict(val_X_df)\n",
    "        val_errs.append(((train_val != val_y_pr).mean())*100)\n",
    "best_val_err = min(val_errs)\n",
    "min_val_errs_index = val_errs.index(best_val_err)\n",
    "best_alpha = alphas[min_val_errs_index //6]\n",
    "best_num_top_s = num_top_s[min_val_errs_index%6]\n"
   ]
  },
  {
   "cell_type": "code",
   "execution_count": 44,
   "metadata": {
    "scrolled": true
   },
   "outputs": [
    {
     "data": {
      "text/html": [
       "<style>div.sk-top-container {color: black;background-color: white;}div.sk-toggleable {background-color: white;}label.sk-toggleable__label {cursor: pointer;display: block;width: 100%;margin-bottom: 0;padding: 0.2em 0.3em;box-sizing: border-box;text-align: center;}div.sk-toggleable__content {max-height: 0;max-width: 0;overflow: hidden;text-align: left;background-color: #f0f8ff;}div.sk-toggleable__content pre {margin: 0.2em;color: black;border-radius: 0.25em;background-color: #f0f8ff;}input.sk-toggleable__control:checked~div.sk-toggleable__content {max-height: 200px;max-width: 100%;overflow: auto;}div.sk-estimator input.sk-toggleable__control:checked~label.sk-toggleable__label {background-color: #d4ebff;}div.sk-label input.sk-toggleable__control:checked~label.sk-toggleable__label {background-color: #d4ebff;}input.sk-hidden--visually {border: 0;clip: rect(1px 1px 1px 1px);clip: rect(1px, 1px, 1px, 1px);height: 1px;margin: -1px;overflow: hidden;padding: 0;position: absolute;width: 1px;}div.sk-estimator {font-family: monospace;background-color: #f0f8ff;margin: 0.25em 0.25em;border: 1px dotted black;border-radius: 0.25em;box-sizing: border-box;}div.sk-estimator:hover {background-color: #d4ebff;}div.sk-parallel-item::after {content: \"\";width: 100%;border-bottom: 1px solid gray;flex-grow: 1;}div.sk-label:hover label.sk-toggleable__label {background-color: #d4ebff;}div.sk-serial::before {content: \"\";position: absolute;border-left: 1px solid gray;box-sizing: border-box;top: 2em;bottom: 0;left: 50%;}div.sk-serial {display: flex;flex-direction: column;align-items: center;background-color: white;}div.sk-item {z-index: 1;}div.sk-parallel {display: flex;align-items: stretch;justify-content: center;background-color: white;}div.sk-parallel-item {display: flex;flex-direction: column;position: relative;background-color: white;}div.sk-parallel-item:first-child::after {align-self: flex-end;width: 50%;}div.sk-parallel-item:last-child::after {align-self: flex-start;width: 50%;}div.sk-parallel-item:only-child::after {width: 0;}div.sk-dashed-wrapped {border: 1px dashed gray;margin: 0.2em;box-sizing: border-box;padding-bottom: 0.1em;background-color: white;position: relative;}div.sk-label label {font-family: monospace;font-weight: bold;background-color: white;display: inline-block;line-height: 1.2em;}div.sk-label-container {position: relative;z-index: 2;text-align: center;}div.sk-container {display: inline-block;position: relative;}</style><div class=\"sk-top-container\"><div class=\"sk-container\"><div class=\"sk-item sk-dashed-wrapped\"><div class=\"sk-label-container\"><div class=\"sk-label sk-toggleable\"><input class=\"sk-toggleable__control sk-hidden--visually\" id=\"02b34161-aaba-4290-9732-9122837b35c0\" type=\"checkbox\" ><label class=\"sk-toggleable__label\" for=\"02b34161-aaba-4290-9732-9122837b35c0\">Pipeline</label><div class=\"sk-toggleable__content\"><pre>Pipeline(steps=[('pipeline',\n",
       "                 Pipeline(steps=[('coltrans_brand',\n",
       "                                  ColTrans_Brand(num_top_brands=11)),\n",
       "                                 ('coltrans_os', ColTrans_OS(num_top_os=11)),\n",
       "                                 ('columntransformer',\n",
       "                                  ColumnTransformer(transformers=[('simpleimputer',\n",
       "                                                                   SimpleImputer(fill_value=0,\n",
       "                                                                                 strategy='constant'),\n",
       "                                                                   ['Screen',\n",
       "                                                                    'Main_Camera',\n",
       "                                                                    'Front_Camera',\n",
       "                                                                    'RAM',\n",
       "                                                                    'Storage',\n",
       "                                                                    'Battery']),\n",
       "                                                                  ('pipeline',\n",
       "                                                                   Pipeline(steps=[('simpleimputer',\n",
       "                                                                                    SimpleImputer(fill_value='No '\n",
       "                                                                                                             'Support',\n",
       "                                                                                                  strategy='constant')),\n",
       "                                                                                   ('onehotencoder',\n",
       "                                                                                    OneHotEncoder(handle_unknown='ignore'))]),\n",
       "                                                                   ['Brand',\n",
       "                                                                    'OS',\n",
       "                                                                    'CPU'])])),\n",
       "                                 ('standardscaler',\n",
       "                                  StandardScaler(with_mean=False))])),\n",
       "                ('mlpclassifier',\n",
       "                 MLPClassifier(activation='tanh', alpha=1000,\n",
       "                               hidden_layer_sizes=20, max_iter=3000,\n",
       "                               random_state=0, solver='lbfgs'))])</pre></div></div></div><div class=\"sk-serial\"><div class=\"sk-item\"><div class=\"sk-label-container\"><div class=\"sk-label sk-toggleable\"><input class=\"sk-toggleable__control sk-hidden--visually\" id=\"e74582a6-72c2-4406-b70a-578a337b43e1\" type=\"checkbox\" ><label class=\"sk-toggleable__label\" for=\"e74582a6-72c2-4406-b70a-578a337b43e1\">pipeline: Pipeline</label><div class=\"sk-toggleable__content\"><pre>Pipeline(steps=[('coltrans_brand', ColTrans_Brand(num_top_brands=11)),\n",
       "                ('coltrans_os', ColTrans_OS(num_top_os=11)),\n",
       "                ('columntransformer',\n",
       "                 ColumnTransformer(transformers=[('simpleimputer',\n",
       "                                                  SimpleImputer(fill_value=0,\n",
       "                                                                strategy='constant'),\n",
       "                                                  ['Screen', 'Main_Camera',\n",
       "                                                   'Front_Camera', 'RAM',\n",
       "                                                   'Storage', 'Battery']),\n",
       "                                                 ('pipeline',\n",
       "                                                  Pipeline(steps=[('simpleimputer',\n",
       "                                                                   SimpleImputer(fill_value='No '\n",
       "                                                                                            'Support',\n",
       "                                                                                 strategy='constant')),\n",
       "                                                                  ('onehotencoder',\n",
       "                                                                   OneHotEncoder(handle_unknown='ignore'))]),\n",
       "                                                  ['Brand', 'OS', 'CPU'])])),\n",
       "                ('standardscaler', StandardScaler(with_mean=False))])</pre></div></div></div><div class=\"sk-serial\"><div class=\"sk-item\"><div class=\"sk-estimator sk-toggleable\"><input class=\"sk-toggleable__control sk-hidden--visually\" id=\"54d55f73-bf55-4b84-a753-d77454a8c096\" type=\"checkbox\" ><label class=\"sk-toggleable__label\" for=\"54d55f73-bf55-4b84-a753-d77454a8c096\">ColTrans_Brand</label><div class=\"sk-toggleable__content\"><pre>ColTrans_Brand(num_top_brands=11)</pre></div></div></div><div class=\"sk-item\"><div class=\"sk-estimator sk-toggleable\"><input class=\"sk-toggleable__control sk-hidden--visually\" id=\"6eb9f4ae-2000-4c04-8704-6825c6448e32\" type=\"checkbox\" ><label class=\"sk-toggleable__label\" for=\"6eb9f4ae-2000-4c04-8704-6825c6448e32\">ColTrans_OS</label><div class=\"sk-toggleable__content\"><pre>ColTrans_OS(num_top_os=11)</pre></div></div></div><div class=\"sk-item sk-dashed-wrapped\"><div class=\"sk-label-container\"><div class=\"sk-label sk-toggleable\"><input class=\"sk-toggleable__control sk-hidden--visually\" id=\"ce388bd7-a020-420f-83c4-a693367785d3\" type=\"checkbox\" ><label class=\"sk-toggleable__label\" for=\"ce388bd7-a020-420f-83c4-a693367785d3\">columntransformer: ColumnTransformer</label><div class=\"sk-toggleable__content\"><pre>ColumnTransformer(transformers=[('simpleimputer',\n",
       "                                 SimpleImputer(fill_value=0,\n",
       "                                               strategy='constant'),\n",
       "                                 ['Screen', 'Main_Camera', 'Front_Camera',\n",
       "                                  'RAM', 'Storage', 'Battery']),\n",
       "                                ('pipeline',\n",
       "                                 Pipeline(steps=[('simpleimputer',\n",
       "                                                  SimpleImputer(fill_value='No '\n",
       "                                                                           'Support',\n",
       "                                                                strategy='constant')),\n",
       "                                                 ('onehotencoder',\n",
       "                                                  OneHotEncoder(handle_unknown='ignore'))]),\n",
       "                                 ['Brand', 'OS', 'CPU'])])</pre></div></div></div><div class=\"sk-parallel\"><div class=\"sk-parallel-item\"><div class=\"sk-item\"><div class=\"sk-label-container\"><div class=\"sk-label sk-toggleable\"><input class=\"sk-toggleable__control sk-hidden--visually\" id=\"0bac3517-1d1f-4395-b2d2-b2aab78d4705\" type=\"checkbox\" ><label class=\"sk-toggleable__label\" for=\"0bac3517-1d1f-4395-b2d2-b2aab78d4705\">simpleimputer</label><div class=\"sk-toggleable__content\"><pre>['Screen', 'Main_Camera', 'Front_Camera', 'RAM', 'Storage', 'Battery']</pre></div></div></div><div class=\"sk-serial\"><div class=\"sk-item\"><div class=\"sk-estimator sk-toggleable\"><input class=\"sk-toggleable__control sk-hidden--visually\" id=\"1fb6fb02-3f0f-43a9-90c6-e6d423a5ed68\" type=\"checkbox\" ><label class=\"sk-toggleable__label\" for=\"1fb6fb02-3f0f-43a9-90c6-e6d423a5ed68\">SimpleImputer</label><div class=\"sk-toggleable__content\"><pre>SimpleImputer(fill_value=0, strategy='constant')</pre></div></div></div></div></div></div><div class=\"sk-parallel-item\"><div class=\"sk-item\"><div class=\"sk-label-container\"><div class=\"sk-label sk-toggleable\"><input class=\"sk-toggleable__control sk-hidden--visually\" id=\"3ad5866c-1ba3-4a46-9467-d7a91c1c0595\" type=\"checkbox\" ><label class=\"sk-toggleable__label\" for=\"3ad5866c-1ba3-4a46-9467-d7a91c1c0595\">pipeline</label><div class=\"sk-toggleable__content\"><pre>['Brand', 'OS', 'CPU']</pre></div></div></div><div class=\"sk-serial\"><div class=\"sk-item\"><div class=\"sk-serial\"><div class=\"sk-item\"><div class=\"sk-estimator sk-toggleable\"><input class=\"sk-toggleable__control sk-hidden--visually\" id=\"6ca5378e-b31a-4270-a744-4c45b18ac8e6\" type=\"checkbox\" ><label class=\"sk-toggleable__label\" for=\"6ca5378e-b31a-4270-a744-4c45b18ac8e6\">SimpleImputer</label><div class=\"sk-toggleable__content\"><pre>SimpleImputer(fill_value='No Support', strategy='constant')</pre></div></div></div><div class=\"sk-item\"><div class=\"sk-estimator sk-toggleable\"><input class=\"sk-toggleable__control sk-hidden--visually\" id=\"a465879c-a5d1-426a-a172-b707b18b42ba\" type=\"checkbox\" ><label class=\"sk-toggleable__label\" for=\"a465879c-a5d1-426a-a172-b707b18b42ba\">OneHotEncoder</label><div class=\"sk-toggleable__content\"><pre>OneHotEncoder(handle_unknown='ignore')</pre></div></div></div></div></div></div></div></div></div></div><div class=\"sk-item\"><div class=\"sk-estimator sk-toggleable\"><input class=\"sk-toggleable__control sk-hidden--visually\" id=\"c6376fbd-dcd8-4618-86b6-b1196823dab0\" type=\"checkbox\" ><label class=\"sk-toggleable__label\" for=\"c6376fbd-dcd8-4618-86b6-b1196823dab0\">StandardScaler</label><div class=\"sk-toggleable__content\"><pre>StandardScaler(with_mean=False)</pre></div></div></div></div></div><div class=\"sk-item\"><div class=\"sk-estimator sk-toggleable\"><input class=\"sk-toggleable__control sk-hidden--visually\" id=\"f61325b4-098e-4bbe-94ea-7941254d9aae\" type=\"checkbox\" ><label class=\"sk-toggleable__label\" for=\"f61325b4-098e-4bbe-94ea-7941254d9aae\">MLPClassifier</label><div class=\"sk-toggleable__content\"><pre>MLPClassifier(activation='tanh', alpha=1000, hidden_layer_sizes=20,\n",
       "              max_iter=3000, random_state=0, solver='lbfgs')</pre></div></div></div></div></div></div></div>"
      ],
      "text/plain": [
       "Pipeline(steps=[('pipeline',\n",
       "                 Pipeline(steps=[('coltrans_brand',\n",
       "                                  ColTrans_Brand(num_top_brands=11)),\n",
       "                                 ('coltrans_os', ColTrans_OS(num_top_os=11)),\n",
       "                                 ('columntransformer',\n",
       "                                  ColumnTransformer(transformers=[('simpleimputer',\n",
       "                                                                   SimpleImputer(fill_value=0,\n",
       "                                                                                 strategy='constant'),\n",
       "                                                                   ['Screen',\n",
       "                                                                    'Main_Camera',\n",
       "                                                                    'Front_Camera',\n",
       "                                                                    'RAM',\n",
       "                                                                    'Storage',\n",
       "                                                                    'Battery']),\n",
       "                                                                  ('pipeline',\n",
       "                                                                   Pipeline(steps=[('simpleimputer',\n",
       "                                                                                    SimpleImputer(fill_value='No '\n",
       "                                                                                                             'Support',\n",
       "                                                                                                  strategy='constant')),\n",
       "                                                                                   ('onehotencoder',\n",
       "                                                                                    OneHotEncoder(handle_unknown='ignore'))]),\n",
       "                                                                   ['Brand',\n",
       "                                                                    'OS',\n",
       "                                                                    'CPU'])])),\n",
       "                                 ('standardscaler',\n",
       "                                  StandardScaler(with_mean=False))])),\n",
       "                ('mlpclassifier',\n",
       "                 MLPClassifier(activation='tanh', alpha=1000,\n",
       "                               hidden_layer_sizes=20, max_iter=3000,\n",
       "                               random_state=0, solver='lbfgs'))])"
      ]
     },
     "execution_count": 44,
     "metadata": {},
     "output_type": "execute_result"
    }
   ],
   "source": [
    "full_pipeline"
   ]
  },
  {
   "cell_type": "markdown",
   "metadata": {},
   "source": [
    "### Độ lỗi tốt nhất trên tập Validation"
   ]
  },
  {
   "cell_type": "code",
   "execution_count": 45,
   "metadata": {},
   "outputs": [
    {
     "data": {
      "text/plain": [
       "7.142857142857142"
      ]
     },
     "execution_count": 45,
     "metadata": {},
     "output_type": "execute_result"
    }
   ],
   "source": [
    "best_val_err"
   ]
  },
  {
   "cell_type": "markdown",
   "metadata": {},
   "source": [
    "## Huấn luyện mô hình trên X_df, y_pr (Tập train + validation)"
   ]
  },
  {
   "cell_type": "code",
   "execution_count": 46,
   "metadata": {},
   "outputs": [],
   "source": [
    "full_pipeline.set_params(pipeline__coltrans_brand__num_top_brands = best_num_top_s,pipeline__coltrans_os__num_top_os = best_num_top_s, mlpclassifier__alpha = best_alpha)\n",
    "final_detailed_model = full_pipeline.fit(X_df,y_pr)\n"
   ]
  },
  {
   "cell_type": "markdown",
   "metadata": {},
   "source": [
    "## Đánh giá mô hình Neural Network tìm được"
   ]
  },
  {
   "cell_type": "code",
   "execution_count": 47,
   "metadata": {},
   "outputs": [],
   "source": [
    "prediction= full_pipeline.predict(test_X_df)"
   ]
  },
  {
   "cell_type": "markdown",
   "metadata": {},
   "source": [
    "#### Độ lỗi trên tập test"
   ]
  },
  {
   "cell_type": "code",
   "execution_count": 48,
   "metadata": {},
   "outputs": [
    {
     "data": {
      "text/plain": [
       "0.0"
      ]
     },
     "execution_count": 48,
     "metadata": {},
     "output_type": "execute_result"
    }
   ],
   "source": [
    "((prediction != test_y_pr).mean())*100"
   ]
  },
  {
   "cell_type": "code",
   "execution_count": 49,
   "metadata": {},
   "outputs": [
    {
     "data": {
      "text/html": [
       "<div>\n",
       "<style scoped>\n",
       "    .dataframe tbody tr th:only-of-type {\n",
       "        vertical-align: middle;\n",
       "    }\n",
       "\n",
       "    .dataframe tbody tr th {\n",
       "        vertical-align: top;\n",
       "    }\n",
       "\n",
       "    .dataframe thead th {\n",
       "        text-align: right;\n",
       "    }\n",
       "</style>\n",
       "<table border=\"1\" class=\"dataframe\">\n",
       "  <thead>\n",
       "    <tr style=\"text-align: right;\">\n",
       "      <th></th>\n",
       "      <th>Class_test</th>\n",
       "      <th>Class_predict</th>\n",
       "    </tr>\n",
       "  </thead>\n",
       "  <tbody>\n",
       "    <tr>\n",
       "      <th>54</th>\n",
       "      <td>3</td>\n",
       "      <td>3</td>\n",
       "    </tr>\n",
       "    <tr>\n",
       "      <th>148</th>\n",
       "      <td>1</td>\n",
       "      <td>1</td>\n",
       "    </tr>\n",
       "    <tr>\n",
       "      <th>63</th>\n",
       "      <td>3</td>\n",
       "      <td>3</td>\n",
       "    </tr>\n",
       "    <tr>\n",
       "      <th>55</th>\n",
       "      <td>3</td>\n",
       "      <td>3</td>\n",
       "    </tr>\n",
       "    <tr>\n",
       "      <th>123</th>\n",
       "      <td>2</td>\n",
       "      <td>2</td>\n",
       "    </tr>\n",
       "    <tr>\n",
       "      <th>102</th>\n",
       "      <td>2</td>\n",
       "      <td>2</td>\n",
       "    </tr>\n",
       "    <tr>\n",
       "      <th>7</th>\n",
       "      <td>3</td>\n",
       "      <td>3</td>\n",
       "    </tr>\n",
       "    <tr>\n",
       "      <th>157</th>\n",
       "      <td>1</td>\n",
       "      <td>1</td>\n",
       "    </tr>\n",
       "    <tr>\n",
       "      <th>131</th>\n",
       "      <td>2</td>\n",
       "      <td>2</td>\n",
       "    </tr>\n",
       "    <tr>\n",
       "      <th>89</th>\n",
       "      <td>2</td>\n",
       "      <td>2</td>\n",
       "    </tr>\n",
       "    <tr>\n",
       "      <th>140</th>\n",
       "      <td>1</td>\n",
       "      <td>1</td>\n",
       "    </tr>\n",
       "    <tr>\n",
       "      <th>145</th>\n",
       "      <td>1</td>\n",
       "      <td>1</td>\n",
       "    </tr>\n",
       "    <tr>\n",
       "      <th>5</th>\n",
       "      <td>3</td>\n",
       "      <td>3</td>\n",
       "    </tr>\n",
       "    <tr>\n",
       "      <th>98</th>\n",
       "      <td>2</td>\n",
       "      <td>2</td>\n",
       "    </tr>\n",
       "    <tr>\n",
       "      <th>165</th>\n",
       "      <td>1</td>\n",
       "      <td>1</td>\n",
       "    </tr>\n",
       "    <tr>\n",
       "      <th>94</th>\n",
       "      <td>2</td>\n",
       "      <td>2</td>\n",
       "    </tr>\n",
       "    <tr>\n",
       "      <th>33</th>\n",
       "      <td>4</td>\n",
       "      <td>4</td>\n",
       "    </tr>\n",
       "    <tr>\n",
       "      <th>18</th>\n",
       "      <td>5</td>\n",
       "      <td>5</td>\n",
       "    </tr>\n",
       "    <tr>\n",
       "      <th>61</th>\n",
       "      <td>3</td>\n",
       "      <td>3</td>\n",
       "    </tr>\n",
       "    <tr>\n",
       "      <th>51</th>\n",
       "      <td>3</td>\n",
       "      <td>3</td>\n",
       "    </tr>\n",
       "    <tr>\n",
       "      <th>66</th>\n",
       "      <td>3</td>\n",
       "      <td>3</td>\n",
       "    </tr>\n",
       "    <tr>\n",
       "      <th>37</th>\n",
       "      <td>4</td>\n",
       "      <td>4</td>\n",
       "    </tr>\n",
       "    <tr>\n",
       "      <th>4</th>\n",
       "      <td>2</td>\n",
       "      <td>2</td>\n",
       "    </tr>\n",
       "    <tr>\n",
       "      <th>125</th>\n",
       "      <td>2</td>\n",
       "      <td>2</td>\n",
       "    </tr>\n",
       "    <tr>\n",
       "      <th>60</th>\n",
       "      <td>3</td>\n",
       "      <td>3</td>\n",
       "    </tr>\n",
       "    <tr>\n",
       "      <th>111</th>\n",
       "      <td>2</td>\n",
       "      <td>2</td>\n",
       "    </tr>\n",
       "    <tr>\n",
       "      <th>126</th>\n",
       "      <td>2</td>\n",
       "      <td>2</td>\n",
       "    </tr>\n",
       "    <tr>\n",
       "      <th>152</th>\n",
       "      <td>1</td>\n",
       "      <td>1</td>\n",
       "    </tr>\n",
       "    <tr>\n",
       "      <th>112</th>\n",
       "      <td>2</td>\n",
       "      <td>2</td>\n",
       "    </tr>\n",
       "    <tr>\n",
       "      <th>161</th>\n",
       "      <td>1</td>\n",
       "      <td>1</td>\n",
       "    </tr>\n",
       "    <tr>\n",
       "      <th>26</th>\n",
       "      <td>5</td>\n",
       "      <td>5</td>\n",
       "    </tr>\n",
       "    <tr>\n",
       "      <th>56</th>\n",
       "      <td>3</td>\n",
       "      <td>3</td>\n",
       "    </tr>\n",
       "    <tr>\n",
       "      <th>137</th>\n",
       "      <td>1</td>\n",
       "      <td>1</td>\n",
       "    </tr>\n",
       "    <tr>\n",
       "      <th>45</th>\n",
       "      <td>4</td>\n",
       "      <td>4</td>\n",
       "    </tr>\n",
       "    <tr>\n",
       "      <th>8</th>\n",
       "      <td>5</td>\n",
       "      <td>5</td>\n",
       "    </tr>\n",
       "  </tbody>\n",
       "</table>\n",
       "</div>"
      ],
      "text/plain": [
       "     Class_test  Class_predict\n",
       "54            3              3\n",
       "148           1              1\n",
       "63            3              3\n",
       "55            3              3\n",
       "123           2              2\n",
       "102           2              2\n",
       "7             3              3\n",
       "157           1              1\n",
       "131           2              2\n",
       "89            2              2\n",
       "140           1              1\n",
       "145           1              1\n",
       "5             3              3\n",
       "98            2              2\n",
       "165           1              1\n",
       "94            2              2\n",
       "33            4              4\n",
       "18            5              5\n",
       "61            3              3\n",
       "51            3              3\n",
       "66            3              3\n",
       "37            4              4\n",
       "4             2              2\n",
       "125           2              2\n",
       "60            3              3\n",
       "111           2              2\n",
       "126           2              2\n",
       "152           1              1\n",
       "112           2              2\n",
       "161           1              1\n",
       "26            5              5\n",
       "56            3              3\n",
       "137           1              1\n",
       "45            4              4\n",
       "8             5              5"
      ]
     },
     "execution_count": 49,
     "metadata": {},
     "output_type": "execute_result"
    }
   ],
   "source": [
    "pd.DataFrame({'Class_test':test_y_pr ,'Class_predict' :prediction})"
   ]
  },
  {
   "cell_type": "markdown",
   "metadata": {},
   "source": [
    "**=> Mô hình Neural NetWork tốt với độ lỗi trên tập test 0%.**"
   ]
  },
  {
   "cell_type": "markdown",
   "metadata": {},
   "source": [
    "## b. Mô hình Multinomial Logistic Regression"
   ]
  },
  {
   "cell_type": "code",
   "execution_count": 50,
   "metadata": {},
   "outputs": [],
   "source": [
    "num_cols = ['Screen','Main_Camera','Front_Camera','RAM','Storage','Battery']\n",
    "cate_cols = ['Brand','OS','CPU']\n",
    "\n",
    "LR = LogisticRegression(multi_class='multinomial',max_iter=3000)\n",
    "full_pipeline_2 = make_pipeline(preprocess_pipeline,LR)\n",
    "\n",
    "# Thử nghiệm chọn các giá trị khác nhau của các siêu tham số và chọn ra giá trị tốt nhất\n",
    "train_errs_2 = []\n",
    "val_errs_2 = []\n",
    "\n",
    "num_top_s_2 = [1, 3, 5, 6, 9, 11]\n",
    "\n",
    "\n",
    "best_val_err_2 = float('inf'); best_num_top_s_2 = None\n",
    "\n",
    "for num_top in num_top_s_2:\n",
    "        \n",
    "    full_pipeline.set_params(pipeline__coltrans_brand__num_top_brands = num_top,pipeline__coltrans_os__num_top_os = num_top)\n",
    "    train_df_2 = full_pipeline_2.fit(train_X_df,train_y_pr)\n",
    "    train_errs_2.append((1 - train_df_2.score(train_X_df,train_y_pr))*100)\n",
    "    train_val_2 = full_pipeline_2.predict(val_X_df)\n",
    "    val_errs_2.append(((train_val_2 != val_y_pr).mean())*100)\n",
    "best_val_err_2 = min(val_errs_2)\n",
    "min_val_errs_index_2 = val_errs_2.index(best_val_err_2)\n",
    "best_num_top_s_2 = num_top_s_2[min_val_errs_index_2]\n"
   ]
  },
  {
   "cell_type": "code",
   "execution_count": 51,
   "metadata": {
    "scrolled": true
   },
   "outputs": [
    {
     "data": {
      "text/plain": [
       "14.285714285714285"
      ]
     },
     "execution_count": 51,
     "metadata": {},
     "output_type": "execute_result"
    }
   ],
   "source": [
    "best_val_err_2"
   ]
  },
  {
   "cell_type": "markdown",
   "metadata": {},
   "source": [
    "## Huấn luyện mô hình trên X_df, y_pr (Tập train + validation)"
   ]
  },
  {
   "cell_type": "code",
   "execution_count": 52,
   "metadata": {
    "scrolled": true
   },
   "outputs": [],
   "source": [
    "full_pipeline_2.set_params(pipeline__coltrans_brand__num_top_brands = best_num_top_s,pipeline__coltrans_os__num_top_os = best_num_top_s)\n",
    "final_detailed_model_2 = full_pipeline_2.fit(X_df,y_pr)"
   ]
  },
  {
   "cell_type": "markdown",
   "metadata": {},
   "source": [
    "## Đánh giá mô hình Multinomial Logistic Regression tìm được\n"
   ]
  },
  {
   "cell_type": "code",
   "execution_count": 53,
   "metadata": {},
   "outputs": [],
   "source": [
    "prediction_2= full_pipeline_2.predict(test_X_df)"
   ]
  },
  {
   "cell_type": "markdown",
   "metadata": {},
   "source": [
    "#### Độ lỗi trên tập test"
   ]
  },
  {
   "cell_type": "code",
   "execution_count": 54,
   "metadata": {},
   "outputs": [
    {
     "data": {
      "text/plain": [
       "2.857142857142857"
      ]
     },
     "execution_count": 54,
     "metadata": {},
     "output_type": "execute_result"
    }
   ],
   "source": [
    "((prediction_2 != test_y_pr).mean())*100"
   ]
  },
  {
   "cell_type": "markdown",
   "metadata": {},
   "source": [
    "**=> Mô hình Multinomial Logistic Regression vẫn cho kết quả rất tốt với độ lỗi trên tập test chỉ xấp xỉ 3%**"
   ]
  },
  {
   "cell_type": "code",
   "execution_count": 55,
   "metadata": {},
   "outputs": [
    {
     "data": {
      "text/html": [
       "<div>\n",
       "<style scoped>\n",
       "    .dataframe tbody tr th:only-of-type {\n",
       "        vertical-align: middle;\n",
       "    }\n",
       "\n",
       "    .dataframe tbody tr th {\n",
       "        vertical-align: top;\n",
       "    }\n",
       "\n",
       "    .dataframe thead th {\n",
       "        text-align: right;\n",
       "    }\n",
       "</style>\n",
       "<table border=\"1\" class=\"dataframe\">\n",
       "  <thead>\n",
       "    <tr style=\"text-align: right;\">\n",
       "      <th></th>\n",
       "      <th>Class_test</th>\n",
       "      <th>Class_predict</th>\n",
       "    </tr>\n",
       "  </thead>\n",
       "  <tbody>\n",
       "    <tr>\n",
       "      <th>54</th>\n",
       "      <td>3</td>\n",
       "      <td>3</td>\n",
       "    </tr>\n",
       "    <tr>\n",
       "      <th>148</th>\n",
       "      <td>1</td>\n",
       "      <td>1</td>\n",
       "    </tr>\n",
       "    <tr>\n",
       "      <th>63</th>\n",
       "      <td>3</td>\n",
       "      <td>3</td>\n",
       "    </tr>\n",
       "    <tr>\n",
       "      <th>55</th>\n",
       "      <td>3</td>\n",
       "      <td>3</td>\n",
       "    </tr>\n",
       "    <tr>\n",
       "      <th>123</th>\n",
       "      <td>2</td>\n",
       "      <td>2</td>\n",
       "    </tr>\n",
       "    <tr>\n",
       "      <th>102</th>\n",
       "      <td>2</td>\n",
       "      <td>2</td>\n",
       "    </tr>\n",
       "    <tr>\n",
       "      <th>7</th>\n",
       "      <td>3</td>\n",
       "      <td>3</td>\n",
       "    </tr>\n",
       "    <tr>\n",
       "      <th>157</th>\n",
       "      <td>1</td>\n",
       "      <td>1</td>\n",
       "    </tr>\n",
       "    <tr>\n",
       "      <th>131</th>\n",
       "      <td>2</td>\n",
       "      <td>2</td>\n",
       "    </tr>\n",
       "    <tr>\n",
       "      <th>89</th>\n",
       "      <td>2</td>\n",
       "      <td>2</td>\n",
       "    </tr>\n",
       "    <tr>\n",
       "      <th>140</th>\n",
       "      <td>1</td>\n",
       "      <td>1</td>\n",
       "    </tr>\n",
       "    <tr>\n",
       "      <th>145</th>\n",
       "      <td>1</td>\n",
       "      <td>1</td>\n",
       "    </tr>\n",
       "    <tr>\n",
       "      <th>5</th>\n",
       "      <td>3</td>\n",
       "      <td>3</td>\n",
       "    </tr>\n",
       "    <tr>\n",
       "      <th>98</th>\n",
       "      <td>2</td>\n",
       "      <td>2</td>\n",
       "    </tr>\n",
       "    <tr>\n",
       "      <th>165</th>\n",
       "      <td>1</td>\n",
       "      <td>1</td>\n",
       "    </tr>\n",
       "    <tr>\n",
       "      <th>94</th>\n",
       "      <td>2</td>\n",
       "      <td>2</td>\n",
       "    </tr>\n",
       "    <tr>\n",
       "      <th>33</th>\n",
       "      <td>4</td>\n",
       "      <td>4</td>\n",
       "    </tr>\n",
       "    <tr>\n",
       "      <th>18</th>\n",
       "      <td>5</td>\n",
       "      <td>5</td>\n",
       "    </tr>\n",
       "    <tr>\n",
       "      <th>61</th>\n",
       "      <td>3</td>\n",
       "      <td>3</td>\n",
       "    </tr>\n",
       "    <tr>\n",
       "      <th>51</th>\n",
       "      <td>3</td>\n",
       "      <td>3</td>\n",
       "    </tr>\n",
       "    <tr>\n",
       "      <th>66</th>\n",
       "      <td>3</td>\n",
       "      <td>3</td>\n",
       "    </tr>\n",
       "    <tr>\n",
       "      <th>37</th>\n",
       "      <td>4</td>\n",
       "      <td>4</td>\n",
       "    </tr>\n",
       "    <tr>\n",
       "      <th>4</th>\n",
       "      <td>2</td>\n",
       "      <td>2</td>\n",
       "    </tr>\n",
       "    <tr>\n",
       "      <th>125</th>\n",
       "      <td>2</td>\n",
       "      <td>2</td>\n",
       "    </tr>\n",
       "    <tr>\n",
       "      <th>60</th>\n",
       "      <td>3</td>\n",
       "      <td>3</td>\n",
       "    </tr>\n",
       "    <tr>\n",
       "      <th>111</th>\n",
       "      <td>2</td>\n",
       "      <td>2</td>\n",
       "    </tr>\n",
       "    <tr>\n",
       "      <th>126</th>\n",
       "      <td>2</td>\n",
       "      <td>2</td>\n",
       "    </tr>\n",
       "    <tr>\n",
       "      <th>152</th>\n",
       "      <td>1</td>\n",
       "      <td>1</td>\n",
       "    </tr>\n",
       "    <tr>\n",
       "      <th>112</th>\n",
       "      <td>2</td>\n",
       "      <td>2</td>\n",
       "    </tr>\n",
       "    <tr>\n",
       "      <th>161</th>\n",
       "      <td>1</td>\n",
       "      <td>1</td>\n",
       "    </tr>\n",
       "    <tr>\n",
       "      <th>26</th>\n",
       "      <td>5</td>\n",
       "      <td>5</td>\n",
       "    </tr>\n",
       "    <tr>\n",
       "      <th>56</th>\n",
       "      <td>3</td>\n",
       "      <td>3</td>\n",
       "    </tr>\n",
       "    <tr>\n",
       "      <th>137</th>\n",
       "      <td>1</td>\n",
       "      <td>1</td>\n",
       "    </tr>\n",
       "    <tr>\n",
       "      <th>45</th>\n",
       "      <td>4</td>\n",
       "      <td>5</td>\n",
       "    </tr>\n",
       "    <tr>\n",
       "      <th>8</th>\n",
       "      <td>5</td>\n",
       "      <td>5</td>\n",
       "    </tr>\n",
       "  </tbody>\n",
       "</table>\n",
       "</div>"
      ],
      "text/plain": [
       "     Class_test  Class_predict\n",
       "54            3              3\n",
       "148           1              1\n",
       "63            3              3\n",
       "55            3              3\n",
       "123           2              2\n",
       "102           2              2\n",
       "7             3              3\n",
       "157           1              1\n",
       "131           2              2\n",
       "89            2              2\n",
       "140           1              1\n",
       "145           1              1\n",
       "5             3              3\n",
       "98            2              2\n",
       "165           1              1\n",
       "94            2              2\n",
       "33            4              4\n",
       "18            5              5\n",
       "61            3              3\n",
       "51            3              3\n",
       "66            3              3\n",
       "37            4              4\n",
       "4             2              2\n",
       "125           2              2\n",
       "60            3              3\n",
       "111           2              2\n",
       "126           2              2\n",
       "152           1              1\n",
       "112           2              2\n",
       "161           1              1\n",
       "26            5              5\n",
       "56            3              3\n",
       "137           1              1\n",
       "45            4              5\n",
       "8             5              5"
      ]
     },
     "execution_count": 55,
     "metadata": {},
     "output_type": "execute_result"
    }
   ],
   "source": [
    "pd.DataFrame({'Class_test':test_y_pr ,'Class_predict' :prediction_2})"
   ]
  },
  {
   "cell_type": "code",
   "execution_count": null,
   "metadata": {},
   "outputs": [],
   "source": []
  },
  {
   "cell_type": "markdown",
   "metadata": {},
   "source": [
    "## c. Mô hình Decision Tree"
   ]
  },
  {
   "cell_type": "code",
   "execution_count": 56,
   "metadata": {},
   "outputs": [],
   "source": [
    "num_cols = ['Screen','Main_Camera','Front_Camera','RAM','Storage','Battery']\n",
    "cate_cols = ['Brand','OS','CPU']\n",
    "\n",
    "Decision_Tree = DecisionTreeClassifier()\n",
    "full_pipeline_3 = make_pipeline(preprocess_pipeline,Decision_Tree)\n",
    "\n",
    "# Thử nghiệm chọn các giá trị khác nhau của các siêu tham số và chọn ra giá trị tốt nhất\n",
    "train_errs_3 = []\n",
    "val_errs_3 = []\n",
    "\n",
    "num_top_s_3 = [1, 3, 5, 6, 9, 11]\n",
    "\n",
    "\n",
    "best_val_err_3 = float('inf'); best_num_top_s_3 = None\n",
    "\n",
    "for num_top in num_top_s_3:\n",
    "        \n",
    "    full_pipeline.set_params(pipeline__coltrans_brand__num_top_brands = num_top,pipeline__coltrans_os__num_top_os = num_top)\n",
    "    train_df_3 = full_pipeline_3.fit(train_X_df,train_y_pr)\n",
    "    train_errs_3.append((1 - train_df_3.score(train_X_df,train_y_pr))*100)\n",
    "    train_val_3 = full_pipeline_3.predict(val_X_df)\n",
    "    val_errs_3.append(((train_val_3 != val_y_pr).mean())*100)\n",
    "best_val_err_3 = min(val_errs_3)\n",
    "min_val_errs_index_3 = val_errs_3.index(best_val_err_3)\n",
    "best_num_top_s_3 = num_top_s_3[min_val_errs_index_3]\n"
   ]
  },
  {
   "cell_type": "code",
   "execution_count": 57,
   "metadata": {
    "scrolled": true
   },
   "outputs": [
    {
     "data": {
      "text/plain": [
       "14.285714285714285"
      ]
     },
     "execution_count": 57,
     "metadata": {},
     "output_type": "execute_result"
    }
   ],
   "source": [
    "best_val_err_3"
   ]
  },
  {
   "cell_type": "markdown",
   "metadata": {},
   "source": [
    "## Huấn luyện mô hình trên X_df, y_pr (Tập train + validation)"
   ]
  },
  {
   "cell_type": "code",
   "execution_count": 58,
   "metadata": {
    "scrolled": true
   },
   "outputs": [],
   "source": [
    "full_pipeline_3.set_params(pipeline__coltrans_brand__num_top_brands = best_num_top_s,pipeline__coltrans_os__num_top_os = best_num_top_s)\n",
    "final_detailed_model_3 = full_pipeline_3.fit(X_df,y_pr)"
   ]
  },
  {
   "cell_type": "markdown",
   "metadata": {},
   "source": [
    "## Đánh giá mô hình Decision Tree tìm được\n"
   ]
  },
  {
   "cell_type": "code",
   "execution_count": 59,
   "metadata": {},
   "outputs": [],
   "source": [
    "prediction_3= full_pipeline_3.predict(test_X_df)"
   ]
  },
  {
   "cell_type": "markdown",
   "metadata": {},
   "source": [
    "#### Độ lỗi trên tập test"
   ]
  },
  {
   "cell_type": "code",
   "execution_count": 60,
   "metadata": {},
   "outputs": [
    {
     "data": {
      "text/plain": [
       "0.0"
      ]
     },
     "execution_count": 60,
     "metadata": {},
     "output_type": "execute_result"
    }
   ],
   "source": [
    "((prediction_3 != test_y_pr).mean())*100"
   ]
  },
  {
   "cell_type": "markdown",
   "metadata": {},
   "source": [
    "**=> Mô hìnhDecision Tree vẫn cho kết quả rất tốt với độ lỗi trên tập test chỉ xấp xỉ 0%**"
   ]
  },
  {
   "cell_type": "code",
   "execution_count": 61,
   "metadata": {},
   "outputs": [
    {
     "data": {
      "text/html": [
       "<div>\n",
       "<style scoped>\n",
       "    .dataframe tbody tr th:only-of-type {\n",
       "        vertical-align: middle;\n",
       "    }\n",
       "\n",
       "    .dataframe tbody tr th {\n",
       "        vertical-align: top;\n",
       "    }\n",
       "\n",
       "    .dataframe thead th {\n",
       "        text-align: right;\n",
       "    }\n",
       "</style>\n",
       "<table border=\"1\" class=\"dataframe\">\n",
       "  <thead>\n",
       "    <tr style=\"text-align: right;\">\n",
       "      <th></th>\n",
       "      <th>Class_test</th>\n",
       "      <th>Class_predict</th>\n",
       "    </tr>\n",
       "  </thead>\n",
       "  <tbody>\n",
       "    <tr>\n",
       "      <th>54</th>\n",
       "      <td>3</td>\n",
       "      <td>3</td>\n",
       "    </tr>\n",
       "    <tr>\n",
       "      <th>148</th>\n",
       "      <td>1</td>\n",
       "      <td>1</td>\n",
       "    </tr>\n",
       "    <tr>\n",
       "      <th>63</th>\n",
       "      <td>3</td>\n",
       "      <td>3</td>\n",
       "    </tr>\n",
       "    <tr>\n",
       "      <th>55</th>\n",
       "      <td>3</td>\n",
       "      <td>3</td>\n",
       "    </tr>\n",
       "    <tr>\n",
       "      <th>123</th>\n",
       "      <td>2</td>\n",
       "      <td>2</td>\n",
       "    </tr>\n",
       "    <tr>\n",
       "      <th>102</th>\n",
       "      <td>2</td>\n",
       "      <td>2</td>\n",
       "    </tr>\n",
       "    <tr>\n",
       "      <th>7</th>\n",
       "      <td>3</td>\n",
       "      <td>3</td>\n",
       "    </tr>\n",
       "    <tr>\n",
       "      <th>157</th>\n",
       "      <td>1</td>\n",
       "      <td>1</td>\n",
       "    </tr>\n",
       "    <tr>\n",
       "      <th>131</th>\n",
       "      <td>2</td>\n",
       "      <td>2</td>\n",
       "    </tr>\n",
       "    <tr>\n",
       "      <th>89</th>\n",
       "      <td>2</td>\n",
       "      <td>2</td>\n",
       "    </tr>\n",
       "    <tr>\n",
       "      <th>140</th>\n",
       "      <td>1</td>\n",
       "      <td>1</td>\n",
       "    </tr>\n",
       "    <tr>\n",
       "      <th>145</th>\n",
       "      <td>1</td>\n",
       "      <td>1</td>\n",
       "    </tr>\n",
       "    <tr>\n",
       "      <th>5</th>\n",
       "      <td>3</td>\n",
       "      <td>3</td>\n",
       "    </tr>\n",
       "    <tr>\n",
       "      <th>98</th>\n",
       "      <td>2</td>\n",
       "      <td>2</td>\n",
       "    </tr>\n",
       "    <tr>\n",
       "      <th>165</th>\n",
       "      <td>1</td>\n",
       "      <td>1</td>\n",
       "    </tr>\n",
       "    <tr>\n",
       "      <th>94</th>\n",
       "      <td>2</td>\n",
       "      <td>2</td>\n",
       "    </tr>\n",
       "    <tr>\n",
       "      <th>33</th>\n",
       "      <td>4</td>\n",
       "      <td>4</td>\n",
       "    </tr>\n",
       "    <tr>\n",
       "      <th>18</th>\n",
       "      <td>5</td>\n",
       "      <td>5</td>\n",
       "    </tr>\n",
       "    <tr>\n",
       "      <th>61</th>\n",
       "      <td>3</td>\n",
       "      <td>3</td>\n",
       "    </tr>\n",
       "    <tr>\n",
       "      <th>51</th>\n",
       "      <td>3</td>\n",
       "      <td>3</td>\n",
       "    </tr>\n",
       "    <tr>\n",
       "      <th>66</th>\n",
       "      <td>3</td>\n",
       "      <td>3</td>\n",
       "    </tr>\n",
       "    <tr>\n",
       "      <th>37</th>\n",
       "      <td>4</td>\n",
       "      <td>4</td>\n",
       "    </tr>\n",
       "    <tr>\n",
       "      <th>4</th>\n",
       "      <td>2</td>\n",
       "      <td>2</td>\n",
       "    </tr>\n",
       "    <tr>\n",
       "      <th>125</th>\n",
       "      <td>2</td>\n",
       "      <td>2</td>\n",
       "    </tr>\n",
       "    <tr>\n",
       "      <th>60</th>\n",
       "      <td>3</td>\n",
       "      <td>3</td>\n",
       "    </tr>\n",
       "    <tr>\n",
       "      <th>111</th>\n",
       "      <td>2</td>\n",
       "      <td>2</td>\n",
       "    </tr>\n",
       "    <tr>\n",
       "      <th>126</th>\n",
       "      <td>2</td>\n",
       "      <td>2</td>\n",
       "    </tr>\n",
       "    <tr>\n",
       "      <th>152</th>\n",
       "      <td>1</td>\n",
       "      <td>1</td>\n",
       "    </tr>\n",
       "    <tr>\n",
       "      <th>112</th>\n",
       "      <td>2</td>\n",
       "      <td>2</td>\n",
       "    </tr>\n",
       "    <tr>\n",
       "      <th>161</th>\n",
       "      <td>1</td>\n",
       "      <td>1</td>\n",
       "    </tr>\n",
       "    <tr>\n",
       "      <th>26</th>\n",
       "      <td>5</td>\n",
       "      <td>5</td>\n",
       "    </tr>\n",
       "    <tr>\n",
       "      <th>56</th>\n",
       "      <td>3</td>\n",
       "      <td>3</td>\n",
       "    </tr>\n",
       "    <tr>\n",
       "      <th>137</th>\n",
       "      <td>1</td>\n",
       "      <td>1</td>\n",
       "    </tr>\n",
       "    <tr>\n",
       "      <th>45</th>\n",
       "      <td>4</td>\n",
       "      <td>4</td>\n",
       "    </tr>\n",
       "    <tr>\n",
       "      <th>8</th>\n",
       "      <td>5</td>\n",
       "      <td>5</td>\n",
       "    </tr>\n",
       "  </tbody>\n",
       "</table>\n",
       "</div>"
      ],
      "text/plain": [
       "     Class_test  Class_predict\n",
       "54            3              3\n",
       "148           1              1\n",
       "63            3              3\n",
       "55            3              3\n",
       "123           2              2\n",
       "102           2              2\n",
       "7             3              3\n",
       "157           1              1\n",
       "131           2              2\n",
       "89            2              2\n",
       "140           1              1\n",
       "145           1              1\n",
       "5             3              3\n",
       "98            2              2\n",
       "165           1              1\n",
       "94            2              2\n",
       "33            4              4\n",
       "18            5              5\n",
       "61            3              3\n",
       "51            3              3\n",
       "66            3              3\n",
       "37            4              4\n",
       "4             2              2\n",
       "125           2              2\n",
       "60            3              3\n",
       "111           2              2\n",
       "126           2              2\n",
       "152           1              1\n",
       "112           2              2\n",
       "161           1              1\n",
       "26            5              5\n",
       "56            3              3\n",
       "137           1              1\n",
       "45            4              4\n",
       "8             5              5"
      ]
     },
     "execution_count": 61,
     "metadata": {},
     "output_type": "execute_result"
    }
   ],
   "source": [
    "pd.DataFrame({'Class_test':test_y_pr ,'Class_predict' :prediction_3})"
   ]
  },
  {
   "cell_type": "markdown",
   "metadata": {},
   "source": [
    "## So sánh 3 môn hình: Neural Network, Multinomial Logistic Regression, Decision Tree"
   ]
  },
  {
   "cell_type": "markdown",
   "metadata": {},
   "source": [
    "### a. Độ lỗi trên tập validation: \n",
    "Multinomial Logistic Regression=Decision Tree > Neural Network\n",
    "### b. Độ lỗi trên tập test:\n",
    " Multinomial Logistic Regression > Neural Network = Decision Tree "
   ]
  },
  {
   "cell_type": "markdown",
   "metadata": {},
   "source": [
    "**=> trên tập dữ liệu của chúng em thì nhận thấy: Neural Netwwork là mô hình tốt nhất**"
   ]
  },
  {
   "cell_type": "markdown",
   "metadata": {},
   "source": [
    "# Nhìn lại quá trình\n",
    "\n",
    "### Khó khăn:\n",
    "- Thời gian đồ án trong thời gian thi HK1\n",
    "- Khó khăn trong việc tiền xử lý dữ liệu\n",
    "- Khó khăn về thu thập dữ phong phú, ít nhiễu, ít thô\n",
    "- Hạn chế về matplotlib nên không thể trực quan hóa dữ liệu một cách sinh động.\n",
    "### Những lợi ích mang lại:\n",
    "- Học được cách tiền xử lý dữ liệu, khám phá dữ liệu, mô hình hóa, đánh giá mô hình hóa\n",
    "một cách tốt hơn\n",
    "- Hiểu rõ hơn về quy trình Khoa học dữ liệu .\n",
    "### Nếu có thêm thời gian:\n",
    "- Nhóm em sẽ thu thập dữ liệu đa dạng phong phú hơn , thử với\n",
    "nhiều mô hình khác để độ lỗi trên tập test nhỏ nhất"
   ]
  },
  {
   "cell_type": "code",
   "execution_count": null,
   "metadata": {},
   "outputs": [],
   "source": []
  }
 ],
 "metadata": {
  "kernelspec": {
   "display_name": "Python 3",
   "language": "python",
   "name": "python3"
  },
  "language_info": {
   "codemirror_mode": {
    "name": "ipython",
    "version": 3
   },
   "file_extension": ".py",
   "mimetype": "text/x-python",
   "name": "python",
   "nbconvert_exporter": "python",
   "pygments_lexer": "ipython3",
   "version": "3.8.3"
  }
 },
 "nbformat": 4,
 "nbformat_minor": 4
}
