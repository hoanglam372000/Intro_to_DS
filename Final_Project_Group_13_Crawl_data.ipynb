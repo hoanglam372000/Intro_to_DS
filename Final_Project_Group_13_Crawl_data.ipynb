{
 "cells": [
  {
   "cell_type": "markdown",
   "metadata": {},
   "source": [
    "# ĐỒ ÁN CUỐI KỲ CỦA NHÓM 13: \n",
    "# DỰ ĐOÁN GIÁ TẦM ĐIỆN THOẠI Ở VIỆT NAM"
   ]
  },
  {
   "cell_type": "markdown",
   "metadata": {},
   "source": [
    "# 1. Thu Thập dữ liệu"
   ]
  },
  {
   "cell_type": "code",
   "execution_count": 2,
   "metadata": {},
   "outputs": [],
   "source": [
    "# Thư viện cần thiết\n",
    "from selenium import webdriver\n",
    "import requests\n",
    "from bs4 import BeautifulSoup\n",
    "import re\n",
    "import time\n",
    "import random\n",
    "import pandas as pd\n",
    "import csv\n",
    "import math\n",
    "%matplotlib inline\n",
    "import matplotlib.pyplot as plt\n",
    "import seaborn as sns\n",
    "import numpy as np\n",
    "\n",
    "from sklearn.model_selection import train_test_split\n",
    "from sklearn.preprocessing import OneHotEncoder, StandardScaler\n",
    "from sklearn.impute import SimpleImputer\n",
    "from sklearn.base import BaseEstimator, TransformerMixin\n",
    "from sklearn.pipeline import Pipeline, make_pipeline\n",
    "from sklearn.compose import ColumnTransformer, make_column_transformer\n",
    "from sklearn.neural_network import MLPClassifier\n",
    "from sklearn import set_config\n",
    "set_config(display='diagram')\n",
    "import sklearn"
   ]
  },
  {
   "cell_type": "markdown",
   "metadata": {},
   "source": [
    "## a. Thu thập link điện thoại:"
   ]
  },
  {
   "cell_type": "markdown",
   "metadata": {},
   "source": [
    "Chúng ta sẽ crawl dữ liệu điện thoại hiện hành đang bán ở Việt Nam trên trang ***'https://www.dienmayxanh.com/dien-thoai'***\n",
    "\n",
    "**Chúng em đã check file robots.txt của trang là nhận thấy việc crawl dữ liệu điện thoại là được cho phép**\n",
    " - Với cột Giá Điện Thoại, chúng ta không lấy giá bán sau khi đã khuyến mại mà lấy giá niêm yết của sản phẩm khi được phân phối ở thị trường Việt Nam \n",
    "   => Dữ liệu về giá sẽ khách quan hơn vì nếu lấy giá khuyến mãi thì mỗi cửa hàng sẽ có một giá bán khác nhau.\n",
    "\n",
    "**NOTE:** Do dữ liệu biến động theo trang web (có thể có thêm điện thoại mới) nên lúc thầy test có thể dữ liệu sẽ khác hơn so với chúng em ạ"
   ]
  },
  {
   "cell_type": "code",
   "execution_count": 3,
   "metadata": {},
   "outputs": [],
   "source": [
    "def collect_phone_links(link):\n",
    "    # Tương tác với trang web, bấm nút xem thêm cho đến khi hết trang web (khoảng 7 lần bấm)\n",
    "    browser = webdriver.Chrome(executable_path='./chromedriver.exe') \n",
    "    browser.get(link)\n",
    "    i = 0\n",
    "    while i < 7:\n",
    "        browser.find_element_by_class_name('loadmore').click()\n",
    "        i = i + 1\n",
    "    html_text = browser.page_source\n",
    "    browser.quit()\n",
    "    # parse html để lấy phone links\n",
    "    phone_link_list = []\n",
    "    parse_html = BeautifulSoup(html_text, 'html.parser')\n",
    "    phones = parse_html.find_all('a', {'class': 'prdImageHrf'})\n",
    "    for phone in phones:\n",
    "        phone_link = 'https://www.dienmayxanh.com/' + phone['href']\n",
    "        phone_link_list.append(phone_link)\n",
    "    return phone_link_list\n",
    "    "
   ]
  },
  {
   "cell_type": "code",
   "execution_count": 4,
   "metadata": {},
   "outputs": [],
   "source": [
    "def write_links_into_file(link):\n",
    "    data_link = open('phone_links.txt','w')\n",
    "    links =  collect_phone_links(link)\n",
    "    for link in links:\n",
    "        data_link.write(link + '\\n')\n",
    "    data_link.close()"
   ]
  },
  {
   "cell_type": "code",
   "execution_count": 5,
   "metadata": {},
   "outputs": [],
   "source": [
    "start_link = 'https://www.dienmayxanh.com/dien-thoai'\n",
    "write_links_into_file(start_link)"
   ]
  },
  {
   "cell_type": "markdown",
   "metadata": {},
   "source": [
    "Sau khi đã lấy được tất cả các phone link và lưu vào file phone_links.txt để dùng về sau."
   ]
  },
  {
   "cell_type": "code",
   "execution_count": 6,
   "metadata": {},
   "outputs": [],
   "source": [
    "phone_links = open('phone_links.txt','r')\n",
    "raw_links  = phone_links.readlines()\n",
    "phone_links.close()\n",
    "links = []\n",
    "for link in raw_links:\n",
    "    link = link[:-1]\n",
    "    links.append(link)"
   ]
  },
  {
   "cell_type": "code",
   "execution_count": 7,
   "metadata": {},
   "outputs": [
    {
     "name": "stdout",
     "output_type": "stream",
     "text": [
      "Tổng số phone link ta có:  179\n"
     ]
    }
   ],
   "source": [
    "print('Tổng số phone link ta có: ',len(links))"
   ]
  },
  {
   "cell_type": "markdown",
   "metadata": {},
   "source": [
    "## b. Thu thập dữ liệu điện thoại:"
   ]
  },
  {
   "cell_type": "code",
   "execution_count": 8,
   "metadata": {},
   "outputs": [],
   "source": [
    "def get_phone_infor(links):\n",
    "    infor = []\n",
    "    for link in links:\n",
    "        get_html = requests.get(link).text\n",
    "        parse_html = BeautifulSoup(get_html, 'html.parser')\n",
    "        \n",
    "        name = re.search(r'(?<=dien-thoai/)[\\w-]+', link)\n",
    "        get_phone_name =  name.group(0)\n",
    "        #print(name)\n",
    "        \n",
    "        brand = re.search(r'(?<=dien-thoai/)[\\w]+', link)\n",
    "        get_brand = brand.group(0)\n",
    "        \n",
    "        tech_infor = parse_html.find('ul',{'class': 'specs'})\n",
    "        if tech_infor!= None:\n",
    "            get_tech_infor = tech_infor.text\n",
    "        else:\n",
    "            continue\n",
    "        get_screen = re.search(r'(([\\d.]+))\"', get_tech_infor)\n",
    "        if get_screen!= None:\n",
    "            screen = get_screen.group(1)\n",
    "        else:\n",
    "            screen = np.nan\n",
    "            \n",
    "        get_OS = re.search(r'((?<=Hệ điều hành:)[\\w ]+)([()\\w ])*[A-Z]', get_tech_infor)\n",
    "        if get_OS!= None:\n",
    "            OS = get_OS.group(1)\n",
    "        else:\n",
    "            OS = np.nan\n",
    "        \n",
    "        get_main_camera = re.search(r'((?<=Camera sau:)([\\w ]+)*[\\d.]+) [MP&]', get_tech_infor)\n",
    "        if get_main_camera!= None:\n",
    "            main_camera = get_main_camera.group(1)\n",
    "        else:\n",
    "            main_camera = np.nan\n",
    "            \n",
    "        get_front_camera = re.search(r'((?<=Camera trước:)([\\w ]+)*[\\d.]+) MP', get_tech_infor)\n",
    "        if get_front_camera!= None:\n",
    "            front_camera = get_front_camera.group(1)\n",
    "        else:\n",
    "            front_camera = np.nan\n",
    "            \n",
    "        get_CPU =re.search(r'((?<=CPU:)[\\w]+)', get_tech_infor)\n",
    "        if get_CPU!= None:\n",
    "            CPU = get_CPU.group(1)\n",
    "        else:\n",
    "            CPU = np.nan\n",
    "        get_RAM = re.search(r'((?<=(RAM:))[\\d]+) GB[Bộ]*', get_tech_infor)\n",
    "        if get_RAM!= None:\n",
    "            RAM = get_RAM.group(1)\n",
    "        else:\n",
    "            RAM = np.nan\n",
    "            \n",
    "        get_storage = re.search(r'((?<=Bộ nhớ trong:)[\\d]+)[ GB]', get_tech_infor)\n",
    "        if get_storage != None:\n",
    "            storage = get_storage.group(1)\n",
    "        else:\n",
    "            storage = np.nan\n",
    "        \n",
    "        get_battery = re.search(r'((?<=Dung lượng pin:)[\\w ]+)mAh', get_tech_infor)\n",
    "        if get_battery!= None:\n",
    "            battery = get_battery.group(1)\n",
    "        else:\n",
    "            battery = np.nan\n",
    "            \n",
    "        get_price = parse_html.find('strong',{'class': 'dl'})\n",
    "        if get_price != None:\n",
    "            price = get_price.text\n",
    "        elif (parse_html.find('div',{'class': 'area_price'}) !=None) and (parse_html.find('span',{'class': 'nosell'}) == None) :\n",
    "            get_price = parse_html.find('div',{'class': 'area_price'}).text\n",
    "            price = re.search(r'([\\d.]+)₫', get_price).group(1)\n",
    "        else:\n",
    "            price = np.nan\n",
    "        #print(price)\n",
    "        \n",
    "        infor.append([get_phone_name,get_brand,screen,OS,main_camera,front_camera,CPU,RAM,storage,battery,price])\n",
    "        \n",
    "        \n",
    "        time.sleep(1)\n",
    "    return infor"
   ]
  },
  {
   "cell_type": "code",
   "execution_count": 9,
   "metadata": {},
   "outputs": [],
   "source": [
    "data_phones = get_phone_infor(links)"
   ]
  },
  {
   "cell_type": "code",
   "execution_count": 11,
   "metadata": {},
   "outputs": [],
   "source": [
    "df = pd.DataFrame(data = data_phones, columns = [\"Phone_Name\",\"Brand\",\"Screen\",\"OS\",\"Main_Camera\",\"Front_Camera\",\"CPU\",\"RAM\",\"Storage\",\"Battery\",'Price'])\n",
    "df.to_csv(\"Phone_Information.csv\",index = False)\n"
   ]
  },
  {
   "cell_type": "code",
   "execution_count": null,
   "metadata": {},
   "outputs": [],
   "source": []
  }
 ],
 "metadata": {
  "kernelspec": {
   "display_name": "Python 3",
   "language": "python",
   "name": "python3"
  },
  "language_info": {
   "codemirror_mode": {
    "name": "ipython",
    "version": 3
   },
   "file_extension": ".py",
   "mimetype": "text/x-python",
   "name": "python",
   "nbconvert_exporter": "python",
   "pygments_lexer": "ipython3",
   "version": "3.8.3"
  }
 },
 "nbformat": 4,
 "nbformat_minor": 4
}
